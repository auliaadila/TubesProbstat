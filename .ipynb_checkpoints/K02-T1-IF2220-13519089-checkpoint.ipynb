{
 "cells": [
  {
   "cell_type": "code",
   "execution_count": 123,
   "metadata": {},
   "outputs": [
    {
     "data": {
      "text/markdown": [
       "### Database Utama Gandum"
      ],
      "text/plain": [
       "<IPython.core.display.Markdown object>"
      ]
     },
     "metadata": {},
     "output_type": "display_data"
    },
    {
     "data": {
      "text/html": [
       "<div>\n",
       "<style scoped>\n",
       "    .dataframe tbody tr th:only-of-type {\n",
       "        vertical-align: middle;\n",
       "    }\n",
       "\n",
       "    .dataframe tbody tr th {\n",
       "        vertical-align: top;\n",
       "    }\n",
       "\n",
       "    .dataframe thead th {\n",
       "        text-align: right;\n",
       "    }\n",
       "</style>\n",
       "<table border=\"1\" class=\"dataframe\">\n",
       "  <thead>\n",
       "    <tr style=\"text-align: right;\">\n",
       "      <th></th>\n",
       "      <th>Daerah</th>\n",
       "      <th>SumbuUtama</th>\n",
       "      <th>SumbuKecil</th>\n",
       "      <th>Keunikan</th>\n",
       "      <th>AreaBulatan</th>\n",
       "      <th>Diameter</th>\n",
       "      <th>KadarAir</th>\n",
       "      <th>Keliling</th>\n",
       "      <th>Bulatan</th>\n",
       "      <th>Ransum</th>\n",
       "    </tr>\n",
       "  </thead>\n",
       "  <tbody>\n",
       "    <tr>\n",
       "      <th>0</th>\n",
       "      <td>5781</td>\n",
       "      <td>128.288875</td>\n",
       "      <td>58.470846</td>\n",
       "      <td>0.890095</td>\n",
       "      <td>5954</td>\n",
       "      <td>85.793926</td>\n",
       "      <td>0.674090</td>\n",
       "      <td>316.756</td>\n",
       "      <td>0.724041</td>\n",
       "      <td>2.194066</td>\n",
       "    </tr>\n",
       "    <tr>\n",
       "      <th>1</th>\n",
       "      <td>4176</td>\n",
       "      <td>109.348294</td>\n",
       "      <td>49.837688</td>\n",
       "      <td>0.890098</td>\n",
       "      <td>4277</td>\n",
       "      <td>72.918093</td>\n",
       "      <td>0.596231</td>\n",
       "      <td>260.346</td>\n",
       "      <td>0.774227</td>\n",
       "      <td>2.194088</td>\n",
       "    </tr>\n",
       "    <tr>\n",
       "      <th>2</th>\n",
       "      <td>4555</td>\n",
       "      <td>114.427991</td>\n",
       "      <td>52.151207</td>\n",
       "      <td>0.890105</td>\n",
       "      <td>4706</td>\n",
       "      <td>76.155145</td>\n",
       "      <td>0.776641</td>\n",
       "      <td>279.606</td>\n",
       "      <td>0.732159</td>\n",
       "      <td>2.194158</td>\n",
       "    </tr>\n",
       "    <tr>\n",
       "      <th>3</th>\n",
       "      <td>4141</td>\n",
       "      <td>108.701191</td>\n",
       "      <td>49.457349</td>\n",
       "      <td>0.890499</td>\n",
       "      <td>4236</td>\n",
       "      <td>72.611879</td>\n",
       "      <td>0.633180</td>\n",
       "      <td>260.478</td>\n",
       "      <td>0.766960</td>\n",
       "      <td>2.197877</td>\n",
       "    </tr>\n",
       "    <tr>\n",
       "      <th>4</th>\n",
       "      <td>5273</td>\n",
       "      <td>122.747869</td>\n",
       "      <td>55.757848</td>\n",
       "      <td>0.890876</td>\n",
       "      <td>5431</td>\n",
       "      <td>81.937733</td>\n",
       "      <td>0.669842</td>\n",
       "      <td>302.730</td>\n",
       "      <td>0.723031</td>\n",
       "      <td>2.201446</td>\n",
       "    </tr>\n",
       "    <tr>\n",
       "      <th>...</th>\n",
       "      <td>...</td>\n",
       "      <td>...</td>\n",
       "      <td>...</td>\n",
       "      <td>...</td>\n",
       "      <td>...</td>\n",
       "      <td>...</td>\n",
       "      <td>...</td>\n",
       "      <td>...</td>\n",
       "      <td>...</td>\n",
       "      <td>...</td>\n",
       "    </tr>\n",
       "    <tr>\n",
       "      <th>495</th>\n",
       "      <td>5083</td>\n",
       "      <td>120.083450</td>\n",
       "      <td>54.821580</td>\n",
       "      <td>0.889709</td>\n",
       "      <td>5179</td>\n",
       "      <td>80.447975</td>\n",
       "      <td>0.534827</td>\n",
       "      <td>286.377</td>\n",
       "      <td>0.778850</td>\n",
       "      <td>2.190441</td>\n",
       "    </tr>\n",
       "    <tr>\n",
       "      <th>496</th>\n",
       "      <td>4432</td>\n",
       "      <td>112.367050</td>\n",
       "      <td>51.294914</td>\n",
       "      <td>0.889726</td>\n",
       "      <td>4550</td>\n",
       "      <td>75.119889</td>\n",
       "      <td>0.601194</td>\n",
       "      <td>270.823</td>\n",
       "      <td>0.759344</td>\n",
       "      <td>2.190608</td>\n",
       "    </tr>\n",
       "    <tr>\n",
       "      <th>497</th>\n",
       "      <td>5020</td>\n",
       "      <td>119.873742</td>\n",
       "      <td>54.718545</td>\n",
       "      <td>0.889740</td>\n",
       "      <td>5104</td>\n",
       "      <td>79.947874</td>\n",
       "      <td>0.528421</td>\n",
       "      <td>285.799</td>\n",
       "      <td>0.772311</td>\n",
       "      <td>2.190733</td>\n",
       "    </tr>\n",
       "    <tr>\n",
       "      <th>498</th>\n",
       "      <td>4035</td>\n",
       "      <td>107.311728</td>\n",
       "      <td>48.930802</td>\n",
       "      <td>0.889996</td>\n",
       "      <td>4150</td>\n",
       "      <td>71.676506</td>\n",
       "      <td>0.584698</td>\n",
       "      <td>258.503</td>\n",
       "      <td>0.758791</td>\n",
       "      <td>2.193132</td>\n",
       "    </tr>\n",
       "    <tr>\n",
       "      <th>499</th>\n",
       "      <td>3379</td>\n",
       "      <td>99.014789</td>\n",
       "      <td>44.631551</td>\n",
       "      <td>0.892647</td>\n",
       "      <td>3491</td>\n",
       "      <td>65.591741</td>\n",
       "      <td>0.653578</td>\n",
       "      <td>237.593</td>\n",
       "      <td>0.752196</td>\n",
       "      <td>2.218493</td>\n",
       "    </tr>\n",
       "  </tbody>\n",
       "</table>\n",
       "<p>500 rows × 10 columns</p>\n",
       "</div>"
      ],
      "text/plain": [
       "     Daerah  SumbuUtama  SumbuKecil  Keunikan  AreaBulatan   Diameter  \\\n",
       "0      5781  128.288875   58.470846  0.890095         5954  85.793926   \n",
       "1      4176  109.348294   49.837688  0.890098         4277  72.918093   \n",
       "2      4555  114.427991   52.151207  0.890105         4706  76.155145   \n",
       "3      4141  108.701191   49.457349  0.890499         4236  72.611879   \n",
       "4      5273  122.747869   55.757848  0.890876         5431  81.937733   \n",
       "..      ...         ...         ...       ...          ...        ...   \n",
       "495    5083  120.083450   54.821580  0.889709         5179  80.447975   \n",
       "496    4432  112.367050   51.294914  0.889726         4550  75.119889   \n",
       "497    5020  119.873742   54.718545  0.889740         5104  79.947874   \n",
       "498    4035  107.311728   48.930802  0.889996         4150  71.676506   \n",
       "499    3379   99.014789   44.631551  0.892647         3491  65.591741   \n",
       "\n",
       "     KadarAir  Keliling   Bulatan    Ransum  \n",
       "0    0.674090   316.756  0.724041  2.194066  \n",
       "1    0.596231   260.346  0.774227  2.194088  \n",
       "2    0.776641   279.606  0.732159  2.194158  \n",
       "3    0.633180   260.478  0.766960  2.197877  \n",
       "4    0.669842   302.730  0.723031  2.201446  \n",
       "..        ...       ...       ...       ...  \n",
       "495  0.534827   286.377  0.778850  2.190441  \n",
       "496  0.601194   270.823  0.759344  2.190608  \n",
       "497  0.528421   285.799  0.772311  2.190733  \n",
       "498  0.584698   258.503  0.758791  2.193132  \n",
       "499  0.653578   237.593  0.752196  2.218493  \n",
       "\n",
       "[500 rows x 10 columns]"
      ]
     },
     "execution_count": 123,
     "metadata": {},
     "output_type": "execute_result"
    }
   ],
   "source": [
    "# Load dataset\n",
    "# import import_ipynb\n",
    "\n",
    "from IPython.display import Markdown, display\n",
    "import pandas as pd\n",
    "import matplotlib.pyplot as plt\n",
    "import numpy as np\n",
    "import seaborn as sns\n",
    "import scipy.stats as stats\n",
    "import math\n",
    "%matplotlib inline\n",
    "\n",
    "def markdown(inputstr):\n",
    "    display(Markdown(inputstr))\n",
    "\n",
    "markdown(\"### Database Utama Gandum\")\n",
    "url = 'https://raw.githubusercontent.com/auliaadila/TubesProbstat_Gandum/main/Gandum.csv'\n",
    "df = pd.read_csv(url, names = [\"ID\", \"Daerah\", \"SumbuUtama\", \"SumbuKecil\", \"Keunikan\", \"AreaBulatan\", \"Diameter\", \"KadarAir\", \"Keliling\", \"Bulatan\", \"Ransum\", \"Kelas\"])\n",
    "new_df = df.drop([\"ID\", \"Kelas\"], axis=1)\n",
    "new_df"
   ]
  },
  {
   "cell_type": "markdown",
   "metadata": {},
   "source": [
    "## 1. Descriptive Statistics\n",
    "### Mean, Median, Standar Deviasi, Minimum, Kuartil, Maximum, Variansi, Range, IQR, Skewness, Kurtosis, Modus"
   ]
  },
  {
   "cell_type": "code",
   "execution_count": 158,
   "metadata": {},
   "outputs": [
    {
     "data": {
      "text/markdown": [
       "### Mean, Median, Standar Deviasi, Minimum, Kuartil, Maximum, Variansi, Range, IQR, Skewness, Kurtosis"
      ],
      "text/plain": [
       "<IPython.core.display.Markdown object>"
      ]
     },
     "metadata": {},
     "output_type": "display_data"
    },
    {
     "data": {
      "text/html": [
       "<div>\n",
       "<style scoped>\n",
       "    .dataframe tbody tr th:only-of-type {\n",
       "        vertical-align: middle;\n",
       "    }\n",
       "\n",
       "    .dataframe tbody tr th {\n",
       "        vertical-align: top;\n",
       "    }\n",
       "\n",
       "    .dataframe thead th {\n",
       "        text-align: right;\n",
       "    }\n",
       "</style>\n",
       "<table border=\"1\" class=\"dataframe\">\n",
       "  <thead>\n",
       "    <tr style=\"text-align: right;\">\n",
       "      <th></th>\n",
       "      <th>Descriptive Stat</th>\n",
       "      <th>Daerah</th>\n",
       "      <th>SumbuUtama</th>\n",
       "      <th>SumbuKecil</th>\n",
       "      <th>Keunikan</th>\n",
       "      <th>AreaBulatan</th>\n",
       "      <th>Diameter</th>\n",
       "      <th>KadarAir</th>\n",
       "      <th>Keliling</th>\n",
       "      <th>Bulatan</th>\n",
       "      <th>Ransum</th>\n",
       "    </tr>\n",
       "  </thead>\n",
       "  <tbody>\n",
       "    <tr>\n",
       "      <th>0</th>\n",
       "      <td>Mean</td>\n",
       "      <td>4801.246</td>\n",
       "      <td>116.045</td>\n",
       "      <td>53.715</td>\n",
       "      <td>0.879</td>\n",
       "      <td>4937.048</td>\n",
       "      <td>77.771</td>\n",
       "      <td>0.648</td>\n",
       "      <td>281.480</td>\n",
       "      <td>0.762</td>\n",
       "      <td>2.151</td>\n",
       "    </tr>\n",
       "    <tr>\n",
       "      <th>1</th>\n",
       "      <td>Median</td>\n",
       "      <td>4735.000</td>\n",
       "      <td>115.405</td>\n",
       "      <td>53.731</td>\n",
       "      <td>0.890</td>\n",
       "      <td>4857.000</td>\n",
       "      <td>77.645</td>\n",
       "      <td>0.626</td>\n",
       "      <td>280.045</td>\n",
       "      <td>0.761</td>\n",
       "      <td>2.194</td>\n",
       "    </tr>\n",
       "    <tr>\n",
       "      <th>2</th>\n",
       "      <td>STD</td>\n",
       "      <td>986.395</td>\n",
       "      <td>18.283</td>\n",
       "      <td>4.071</td>\n",
       "      <td>0.037</td>\n",
       "      <td>1011.696</td>\n",
       "      <td>8.057</td>\n",
       "      <td>0.094</td>\n",
       "      <td>37.335</td>\n",
       "      <td>0.062</td>\n",
       "      <td>0.250</td>\n",
       "    </tr>\n",
       "    <tr>\n",
       "      <th>3</th>\n",
       "      <td>Minimum</td>\n",
       "      <td>2522.000</td>\n",
       "      <td>74.133</td>\n",
       "      <td>39.907</td>\n",
       "      <td>0.720</td>\n",
       "      <td>2579.000</td>\n",
       "      <td>56.667</td>\n",
       "      <td>0.410</td>\n",
       "      <td>197.015</td>\n",
       "      <td>0.175</td>\n",
       "      <td>1.441</td>\n",
       "    </tr>\n",
       "    <tr>\n",
       "      <th>4</th>\n",
       "      <td>25%</td>\n",
       "      <td>4042.750</td>\n",
       "      <td>104.116</td>\n",
       "      <td>51.194</td>\n",
       "      <td>0.864</td>\n",
       "      <td>4170.250</td>\n",
       "      <td>71.745</td>\n",
       "      <td>0.573</td>\n",
       "      <td>255.883</td>\n",
       "      <td>0.732</td>\n",
       "      <td>1.984</td>\n",
       "    </tr>\n",
       "    <tr>\n",
       "      <th>5</th>\n",
       "      <td>50%</td>\n",
       "      <td>4735.000</td>\n",
       "      <td>115.405</td>\n",
       "      <td>53.731</td>\n",
       "      <td>0.890</td>\n",
       "      <td>4857.000</td>\n",
       "      <td>77.645</td>\n",
       "      <td>0.626</td>\n",
       "      <td>280.045</td>\n",
       "      <td>0.761</td>\n",
       "      <td>2.194</td>\n",
       "    </tr>\n",
       "    <tr>\n",
       "      <th>6</th>\n",
       "      <td>75%</td>\n",
       "      <td>5495.500</td>\n",
       "      <td>129.047</td>\n",
       "      <td>56.325</td>\n",
       "      <td>0.908</td>\n",
       "      <td>5654.250</td>\n",
       "      <td>83.649</td>\n",
       "      <td>0.727</td>\n",
       "      <td>306.062</td>\n",
       "      <td>0.796</td>\n",
       "      <td>2.382</td>\n",
       "    </tr>\n",
       "    <tr>\n",
       "      <th>7</th>\n",
       "      <td>Maximum</td>\n",
       "      <td>7453.000</td>\n",
       "      <td>227.929</td>\n",
       "      <td>68.978</td>\n",
       "      <td>0.914</td>\n",
       "      <td>7720.000</td>\n",
       "      <td>97.414</td>\n",
       "      <td>0.879</td>\n",
       "      <td>488.837</td>\n",
       "      <td>0.905</td>\n",
       "      <td>2.465</td>\n",
       "    </tr>\n",
       "    <tr>\n",
       "      <th>8</th>\n",
       "      <td>Variansi</td>\n",
       "      <td>972976.066</td>\n",
       "      <td>334.254</td>\n",
       "      <td>16.574</td>\n",
       "      <td>0.001</td>\n",
       "      <td>1023529.312</td>\n",
       "      <td>64.913</td>\n",
       "      <td>0.009</td>\n",
       "      <td>1393.932</td>\n",
       "      <td>0.004</td>\n",
       "      <td>0.062</td>\n",
       "    </tr>\n",
       "    <tr>\n",
       "      <th>9</th>\n",
       "      <td>Range</td>\n",
       "      <td>4931.000</td>\n",
       "      <td>153.795</td>\n",
       "      <td>29.071</td>\n",
       "      <td>0.194</td>\n",
       "      <td>5141.000</td>\n",
       "      <td>40.747</td>\n",
       "      <td>0.469</td>\n",
       "      <td>291.822</td>\n",
       "      <td>0.730</td>\n",
       "      <td>1.024</td>\n",
       "    </tr>\n",
       "    <tr>\n",
       "      <th>10</th>\n",
       "      <td>IQR</td>\n",
       "      <td>1452.750</td>\n",
       "      <td>24.931</td>\n",
       "      <td>5.132</td>\n",
       "      <td>0.044</td>\n",
       "      <td>1484.000</td>\n",
       "      <td>11.903</td>\n",
       "      <td>0.154</td>\n",
       "      <td>50.180</td>\n",
       "      <td>0.064</td>\n",
       "      <td>0.398</td>\n",
       "    </tr>\n",
       "    <tr>\n",
       "      <th>11</th>\n",
       "      <td>Skewness</td>\n",
       "      <td>0.238</td>\n",
       "      <td>0.762</td>\n",
       "      <td>-0.011</td>\n",
       "      <td>-1.623</td>\n",
       "      <td>0.258</td>\n",
       "      <td>0.003</td>\n",
       "      <td>0.494</td>\n",
       "      <td>0.734</td>\n",
       "      <td>-3.599</td>\n",
       "      <td>-0.658</td>\n",
       "    </tr>\n",
       "    <tr>\n",
       "      <th>12</th>\n",
       "      <td>Kurtosis</td>\n",
       "      <td>-0.435</td>\n",
       "      <td>4.331</td>\n",
       "      <td>0.476</td>\n",
       "      <td>2.917</td>\n",
       "      <td>-0.410</td>\n",
       "      <td>-0.466</td>\n",
       "      <td>-0.740</td>\n",
       "      <td>2.273</td>\n",
       "      <td>29.975</td>\n",
       "      <td>-0.429</td>\n",
       "    </tr>\n",
       "  </tbody>\n",
       "</table>\n",
       "</div>"
      ],
      "text/plain": [
       "   Descriptive Stat      Daerah  SumbuUtama  SumbuKecil  Keunikan  \\\n",
       "0              Mean    4801.246     116.045      53.715     0.879   \n",
       "1            Median    4735.000     115.405      53.731     0.890   \n",
       "2               STD     986.395      18.283       4.071     0.037   \n",
       "3           Minimum    2522.000      74.133      39.907     0.720   \n",
       "4               25%    4042.750     104.116      51.194     0.864   \n",
       "5               50%    4735.000     115.405      53.731     0.890   \n",
       "6               75%    5495.500     129.047      56.325     0.908   \n",
       "7           Maximum    7453.000     227.929      68.978     0.914   \n",
       "8          Variansi  972976.066     334.254      16.574     0.001   \n",
       "9             Range    4931.000     153.795      29.071     0.194   \n",
       "10              IQR    1452.750      24.931       5.132     0.044   \n",
       "11         Skewness       0.238       0.762      -0.011    -1.623   \n",
       "12         Kurtosis      -0.435       4.331       0.476     2.917   \n",
       "\n",
       "    AreaBulatan  Diameter  KadarAir  Keliling  Bulatan  Ransum  \n",
       "0      4937.048    77.771     0.648   281.480    0.762   2.151  \n",
       "1      4857.000    77.645     0.626   280.045    0.761   2.194  \n",
       "2      1011.696     8.057     0.094    37.335    0.062   0.250  \n",
       "3      2579.000    56.667     0.410   197.015    0.175   1.441  \n",
       "4      4170.250    71.745     0.573   255.883    0.732   1.984  \n",
       "5      4857.000    77.645     0.626   280.045    0.761   2.194  \n",
       "6      5654.250    83.649     0.727   306.062    0.796   2.382  \n",
       "7      7720.000    97.414     0.879   488.837    0.905   2.465  \n",
       "8   1023529.312    64.913     0.009  1393.932    0.004   0.062  \n",
       "9      5141.000    40.747     0.469   291.822    0.730   1.024  \n",
       "10     1484.000    11.903     0.154    50.180    0.064   0.398  \n",
       "11        0.258     0.003     0.494     0.734   -3.599  -0.658  \n",
       "12       -0.410    -0.466    -0.740     2.273   29.975  -0.429  "
      ]
     },
     "metadata": {},
     "output_type": "display_data"
    },
    {
     "data": {
      "text/markdown": [
       "### Modus"
      ],
      "text/plain": [
       "<IPython.core.display.Markdown object>"
      ]
     },
     "metadata": {},
     "output_type": "display_data"
    },
    {
     "data": {
      "text/html": [
       "<div>\n",
       "<style scoped>\n",
       "    .dataframe tbody tr th:only-of-type {\n",
       "        vertical-align: middle;\n",
       "    }\n",
       "\n",
       "    .dataframe tbody tr th {\n",
       "        vertical-align: top;\n",
       "    }\n",
       "\n",
       "    .dataframe thead th {\n",
       "        text-align: right;\n",
       "    }\n",
       "</style>\n",
       "<table border=\"1\" class=\"dataframe\">\n",
       "  <thead>\n",
       "    <tr style=\"text-align: right;\">\n",
       "      <th></th>\n",
       "      <th>Daerah</th>\n",
       "      <th>SumbuUtama</th>\n",
       "      <th>SumbuKecil</th>\n",
       "      <th>Keunikan</th>\n",
       "      <th>AreaBulatan</th>\n",
       "      <th>Diameter</th>\n",
       "      <th>KadarAir</th>\n",
       "      <th>Keliling</th>\n",
       "      <th>Bulatan</th>\n",
       "      <th>Ransum</th>\n",
       "    </tr>\n",
       "  </thead>\n",
       "  <tbody>\n",
       "    <tr>\n",
       "      <th>0</th>\n",
       "      <td>3992.0</td>\n",
       "      <td>74.133114</td>\n",
       "      <td>39.906517</td>\n",
       "      <td>0.719916</td>\n",
       "      <td>3802.0</td>\n",
       "      <td>71.293564</td>\n",
       "      <td>0.735849</td>\n",
       "      <td>197.015</td>\n",
       "      <td>0.174590</td>\n",
       "      <td>1.440796</td>\n",
       "    </tr>\n",
       "    <tr>\n",
       "      <th>1</th>\n",
       "      <td>4881.0</td>\n",
       "      <td>74.364021</td>\n",
       "      <td>41.436419</td>\n",
       "      <td>0.725553</td>\n",
       "      <td>4913.0</td>\n",
       "      <td>78.833256</td>\n",
       "      <td>0.824405</td>\n",
       "      <td>200.587</td>\n",
       "      <td>0.261297</td>\n",
       "      <td>1.453137</td>\n",
       "    </tr>\n",
       "    <tr>\n",
       "      <th>2</th>\n",
       "      <td>5642.0</td>\n",
       "      <td>74.691881</td>\n",
       "      <td>42.871879</td>\n",
       "      <td>0.731211</td>\n",
       "      <td>NaN</td>\n",
       "      <td>84.756224</td>\n",
       "      <td>NaN</td>\n",
       "      <td>202.456</td>\n",
       "      <td>0.299298</td>\n",
       "      <td>1.465950</td>\n",
       "    </tr>\n",
       "    <tr>\n",
       "      <th>3</th>\n",
       "      <td>6083.0</td>\n",
       "      <td>76.293164</td>\n",
       "      <td>43.284979</td>\n",
       "      <td>0.738639</td>\n",
       "      <td>NaN</td>\n",
       "      <td>88.006342</td>\n",
       "      <td>NaN</td>\n",
       "      <td>207.325</td>\n",
       "      <td>0.589146</td>\n",
       "      <td>1.483456</td>\n",
       "    </tr>\n",
       "    <tr>\n",
       "      <th>4</th>\n",
       "      <td>NaN</td>\n",
       "      <td>76.789043</td>\n",
       "      <td>44.119355</td>\n",
       "      <td>0.749282</td>\n",
       "      <td>NaN</td>\n",
       "      <td>NaN</td>\n",
       "      <td>NaN</td>\n",
       "      <td>207.697</td>\n",
       "      <td>0.603807</td>\n",
       "      <td>1.510000</td>\n",
       "    </tr>\n",
       "    <tr>\n",
       "      <th>...</th>\n",
       "      <td>...</td>\n",
       "      <td>...</td>\n",
       "      <td>...</td>\n",
       "      <td>...</td>\n",
       "      <td>...</td>\n",
       "      <td>...</td>\n",
       "      <td>...</td>\n",
       "      <td>...</td>\n",
       "      <td>...</td>\n",
       "      <td>...</td>\n",
       "    </tr>\n",
       "    <tr>\n",
       "      <th>495</th>\n",
       "      <td>NaN</td>\n",
       "      <td>152.068440</td>\n",
       "      <td>63.322854</td>\n",
       "      <td>0.913724</td>\n",
       "      <td>NaN</td>\n",
       "      <td>NaN</td>\n",
       "      <td>NaN</td>\n",
       "      <td>375.651</td>\n",
       "      <td>0.872417</td>\n",
       "      <td>2.461017</td>\n",
       "    </tr>\n",
       "    <tr>\n",
       "      <th>496</th>\n",
       "      <td>NaN</td>\n",
       "      <td>152.113491</td>\n",
       "      <td>63.762307</td>\n",
       "      <td>0.913760</td>\n",
       "      <td>NaN</td>\n",
       "      <td>NaN</td>\n",
       "      <td>NaN</td>\n",
       "      <td>390.125</td>\n",
       "      <td>0.874243</td>\n",
       "      <td>2.461510</td>\n",
       "    </tr>\n",
       "    <tr>\n",
       "      <th>497</th>\n",
       "      <td>NaN</td>\n",
       "      <td>153.583387</td>\n",
       "      <td>64.012769</td>\n",
       "      <td>0.913891</td>\n",
       "      <td>NaN</td>\n",
       "      <td>NaN</td>\n",
       "      <td>NaN</td>\n",
       "      <td>434.235</td>\n",
       "      <td>0.874743</td>\n",
       "      <td>2.463297</td>\n",
       "    </tr>\n",
       "    <tr>\n",
       "      <th>498</th>\n",
       "      <td>NaN</td>\n",
       "      <td>227.105462</td>\n",
       "      <td>65.738475</td>\n",
       "      <td>0.913909</td>\n",
       "      <td>NaN</td>\n",
       "      <td>NaN</td>\n",
       "      <td>NaN</td>\n",
       "      <td>448.305</td>\n",
       "      <td>0.891706</td>\n",
       "      <td>2.463546</td>\n",
       "    </tr>\n",
       "    <tr>\n",
       "      <th>499</th>\n",
       "      <td>NaN</td>\n",
       "      <td>227.928583</td>\n",
       "      <td>68.977700</td>\n",
       "      <td>0.914001</td>\n",
       "      <td>NaN</td>\n",
       "      <td>NaN</td>\n",
       "      <td>NaN</td>\n",
       "      <td>488.837</td>\n",
       "      <td>0.904748</td>\n",
       "      <td>2.464809</td>\n",
       "    </tr>\n",
       "  </tbody>\n",
       "</table>\n",
       "<p>500 rows × 10 columns</p>\n",
       "</div>"
      ],
      "text/plain": [
       "     Daerah  SumbuUtama  SumbuKecil  Keunikan  AreaBulatan   Diameter  \\\n",
       "0    3992.0   74.133114   39.906517  0.719916       3802.0  71.293564   \n",
       "1    4881.0   74.364021   41.436419  0.725553       4913.0  78.833256   \n",
       "2    5642.0   74.691881   42.871879  0.731211          NaN  84.756224   \n",
       "3    6083.0   76.293164   43.284979  0.738639          NaN  88.006342   \n",
       "4       NaN   76.789043   44.119355  0.749282          NaN        NaN   \n",
       "..      ...         ...         ...       ...          ...        ...   \n",
       "495     NaN  152.068440   63.322854  0.913724          NaN        NaN   \n",
       "496     NaN  152.113491   63.762307  0.913760          NaN        NaN   \n",
       "497     NaN  153.583387   64.012769  0.913891          NaN        NaN   \n",
       "498     NaN  227.105462   65.738475  0.913909          NaN        NaN   \n",
       "499     NaN  227.928583   68.977700  0.914001          NaN        NaN   \n",
       "\n",
       "     KadarAir  Keliling   Bulatan    Ransum  \n",
       "0    0.735849   197.015  0.174590  1.440796  \n",
       "1    0.824405   200.587  0.261297  1.453137  \n",
       "2         NaN   202.456  0.299298  1.465950  \n",
       "3         NaN   207.325  0.589146  1.483456  \n",
       "4         NaN   207.697  0.603807  1.510000  \n",
       "..        ...       ...       ...       ...  \n",
       "495       NaN   375.651  0.872417  2.461017  \n",
       "496       NaN   390.125  0.874243  2.461510  \n",
       "497       NaN   434.235  0.874743  2.463297  \n",
       "498       NaN   448.305  0.891706  2.463546  \n",
       "499       NaN   488.837  0.904748  2.464809  \n",
       "\n",
       "[500 rows x 10 columns]"
      ]
     },
     "execution_count": 158,
     "metadata": {},
     "output_type": "execute_result"
    }
   ],
   "source": [
    "markdown(\"### Mean, Median, Standar Deviasi, Minimum, Kuartil, Maximum, Variansi, Range, IQR, Skewness, Kurtosis\")\n",
    "#Menginisiasi dict yang nantinya akan diubah menjadi dataframe\n",
    "desc_stat = {}\n",
    "desc_stat['Descriptive Stat'] = ['Mean','Median','STD','Minimum','25%','50%','75%','Maximum','Variansi',\n",
    "                                 'Range','IQR','Skewness','Kurtosis']\n",
    "desc_stat['Daerah']         = [0,0,0,0,0,0,0,0,0,0,0,0,0]\n",
    "desc_stat['SumbuUtama']     = [0,0,0,0,0,0,0,0,0,0,0,0,0]\n",
    "desc_stat['SumbuKecil']     = [0,0,0,0,0,0,0,0,0,0,0,0,0]\n",
    "desc_stat['Keunikan']       = [0,0,0,0,0,0,0,0,0,0,0,0,0]\n",
    "desc_stat['AreaBulatan']    = [0,0,0,0,0,0,0,0,0,0,0,0,0]\n",
    "desc_stat['Diameter']       = [0,0,0,0,0,0,0,0,0,0,0,0,0]\n",
    "desc_stat['KadarAir']       = [0,0,0,0,0,0,0,0,0,0,0,0,0]\n",
    "desc_stat['Keliling']       = [0,0,0,0,0,0,0,0,0,0,0,0,0]\n",
    "desc_stat['Bulatan']        = [0,0,0,0,0,0,0,0,0,0,0,0,0]\n",
    "desc_stat['Ransum']         = [0,0,0,0,0,0,0,0,0,0,0,0,0]\n",
    "\n",
    "#Memasukan data perkolom ke dict\n",
    "for column in new_df:\n",
    "    #input mean\n",
    "    desc_stat[column][0]=(new_df[column].mean())\n",
    "    #input median\n",
    "    desc_stat[column][1]=(new_df[column].median())\n",
    "    #input standar deviasi\n",
    "    desc_stat[column][2]=(new_df[column].std())\n",
    "    #input minimum value\n",
    "    desc_stat[column][3]=(new_df[column].min())\n",
    "    #input kuartil Q1\n",
    "    k25 = new_df[column].quantile(0.25)\n",
    "    #input kuartile Q2\n",
    "    k50 = new_df[column].quantile(0.50)\n",
    "    #input kuartile Q3\n",
    "    k75 = new_df[column].quantile(0.75)\n",
    "    desc_stat[column][4]=(k25)\n",
    "    desc_stat[column][5]=(k50)\n",
    "    desc_stat[column][6]=(k75)\n",
    "    #input maximum value\n",
    "    desc_stat[column][7]=(new_df[column].max())\n",
    "    #input variansi\n",
    "    desc_stat[column][8]=(new_df[column].var())\n",
    "    #input range\n",
    "    desc_stat[column][9]=(new_df[column].max() - new_df[column].min())\n",
    "    #input IQR\n",
    "    desc_stat[column][10]=(k75-k25)\n",
    "    #input skewness\n",
    "    desc_stat[column][11]=(new_df[column].skew())\n",
    "    #input kurtosis\n",
    "    desc_stat[column][12]=(new_df[column].kurtosis())\n",
    "\n",
    "#dict to dataframe\n",
    "df_descStat = pd.DataFrame(desc_stat)\n",
    "#pembulatan 3 digit belakang koma\n",
    "df_descStat = df_descStat.round(3)\n",
    "#display\n",
    "display(df_descStat)\n",
    "\n",
    "markdown(\"### Modus\")\n",
    "#khusus untuk nilai modus tiap kolom dipisah karena bisa lebih dari 1\n",
    "new_df.mode()\n"
   ]
  },
  {
   "cell_type": "markdown",
   "metadata": {},
   "source": [
    "## 2. Visualisasi Plot Distribusi\n",
    "Visualisasi ditampilkan dalam bentuk histogram dan boxplot untuk setiap kolom numerik"
   ]
  },
  {
   "cell_type": "code",
   "execution_count": 164,
   "metadata": {},
   "outputs": [],
   "source": [
    "def visual(col):\n",
    "    plt.subplot(1,2,1)\n",
    "    new_df[col].plot(kind=\"hist\",figsize=(10,4), color = \"green\")\n",
    "    plt.xlabel(\"Value\")\n",
    "    plt.title('Histogram')\n",
    "    plt.grid()\n",
    "\n",
    "    plt.subplot(1,2,2)\n",
    "    new_df[col].plot(kind = \"box\", vert=False)\n",
    "    plt.title('Boxplot')\n",
    "    plt.yticks(ticks=[0]) \n",
    "    plt.xlabel(\"Value\")\n",
    "    plt.grid()\n",
    "    plt.tight_layout()\n",
    "\n",
    "def visualT(col):\n",
    "    markdown(\"### Visualisasi Kolom %s\" %(col))\n",
    "\n",
    "def fetch(col):\n",
    "    skew = new_df[col].skew()\n",
    "    kurt = new_df[col].kurtosis()\n",
    "    q1 = float(new_df[col].quantile(0.25))\n",
    "    median = new_df[col].quantile(0.50)\n",
    "    q3 = float(new_df[col].quantile(0.75))\n",
    "    mean = new_df[col].mean()\n",
    "    \n",
    "    markdown(\"**Data statistik**\")\n",
    "    print(\"Skewness  :\",skew)\n",
    "    print(\"Kurtosis  :\",kurt)\n",
    "    print(\"Kuartil 1 :\", q1)\n",
    "    print(\"Median    :\", median)\n",
    "    print(\"Kuartil 3 :\",q3)\n",
    "    markdown(\"***\")\n",
    "    \n",
    "    text1 = \"Berdasarkan data statistik pada kolom %s, \" %(col)\n",
    "    \n",
    "    #skewness\n",
    "    text2 = \"didapat nilai skewness $%f$ sehingga dapat disimpulkan bahwa kolom bersifat \" %(skew)\n",
    "    if (-0.5 < skew < 0.5):\n",
    "        text3 = \"***symmetrically distributed***\"\n",
    "    elif ((skew <= -0.5) and (mean < median)):\n",
    "        text3 = \"***negatively skewed***, yaitu data dengan nilai yang besar memiliki frekuensi yang tinggi.\"\n",
    "    elif ((skew >= 0.5) and (mean > median)):\n",
    "        text3 = \"***positively skewed***, yaitu data dengan nilai yang kecil memiliki frekuensi yang tinggi.\"\n",
    "    \n",
    "    #kurtosis\n",
    "    text4 = \"Keruncingan grafik dapat diketahui dari nilai kurtosis kolom yang bernilai $%f$ . \" %(kurt)\n",
    "    if (kurt < 0):\n",
    "        text5 = \"Terdapat banyak nilai ekstrem bawah, sehingga distribusi disebut ***platykurtic distribution***. \"\n",
    "    elif (kurt > 0):\n",
    "        text5 = \"Terdapat banyak nilai ekstrem atas, sehingga distribusi disebut ***leptokurtic distribution***. \"\n",
    "    else:\n",
    "        text5 = \"Distribusi disebut ***mesokurtic distribution***. \"\n",
    "    \n",
    "    #outliers\n",
    "    #text6 = \"Dari visualisasi boxplot, dapat dilihat bahwa data pada kolom %s \" %(col)\n",
    "    #iqr = q3 - q1\n",
    "    #mini = q1 - 1.5*iqr\n",
    "    #maxi = q1 + 1.5*iqr\n",
    "    #c_max = new_df.loc[new_df[col] > maxi].count()[col]\n",
    "    #c_min = new_df.loc[new_df[col] < min].count()[col]\n",
    "    #if (new_df > maxi) or (new_df < mini):\n",
    "    #    if (new_df > maxi):\n",
    "    #        text7 = \"memiliki pencilan atas\"\n",
    "    #    elif (new_df < mini):\n",
    "    #        text7 = \"memiliki pencilan bawah\"\n",
    "   # else:\n",
    "     #   text7 = \"tidak memiliki pencilan.\"\n",
    "    \n",
    "    # print skewness\n",
    "    markdown(text1 + text2 + text3)\n",
    "    # print kurtosis\n",
    "    markdown(text4 + text5)\n",
    "\n",
    "def fetchB(col):\n",
    "    skew = new_df[col].skew()\n",
    "    kurt = new_df[col].kurtosis()\n",
    "    q1 = float(new_df[col].quantile(0.25))\n",
    "    median = new_df[col].quantile(0.50)\n",
    "    q3 = float(new_df[col].quantile(0.75))\n",
    "    mean = new_df[col].mean()\n",
    "    \n",
    "    markdown(\"**Data statistik**\")\n",
    "    print(\"Skewness  :\",skew)\n",
    "    print(\"Kurtosis  :\",kurt)\n",
    "    print(\"Kuartil 1 :\", q1)\n",
    "    print(\"Median    :\", median)\n",
    "    print(\"Kuartil 3 :\",q3)\n",
    "    markdown(\"***\")\n",
    "    \n",
    "    # Skewness  : -3.5992367663616407\n",
    "    # Kurtosis  : 29.97509590463005\n",
    "    # Kuartil 1 : 0.731990728\n",
    "    # Median    : 0.7612884395\n",
    "    # Kuartil 3 : 0.79636096975\n",
    "    \n",
    "    text1 = \"Berdasarkan data statistik pada kolom %s, \" %(col)\n",
    "    text2 = \"didapat nilai skewness $%f$ sehingga dapat disimpulkan bahwa kolom bersifat \" %(skew)\n",
    "    text3 = \"***negatively skewed***, yaitu data dengan nilai yang besar memiliki frekuensi yang tinggi.\"\n",
    "    markdown(text1 + text2 + text3)\n",
    "    \n",
    "    text4 = \"Keruncingan grafik dapat diketahui dari nilai kurtosis kolom yang bernilai $%f$ . \" %(kurt)\n",
    "    text5 = \"Terdapat banyak nilai ekstrem atas, sehingga distribusi disebut ***leptokurtic distribution***. \"\n",
    "    markdown(text4 + text5)\n",
    "\n",
    "def printAll(col):\n",
    "    visualT(col)\n",
    "    fetch(col)\n",
    "    visual(col)\n",
    "\n",
    "def printAllB(col):\n",
    "    visualT(col)\n",
    "    fetchB(col)\n",
    "    visual(col)\n",
    "\n",
    "    #markdown(\"Dari visualisasi boxplot, dapat dilihat bahwa data pada kolom %s,\" %(col))\n",
    "    #print(end=\"\")"
   ]
  },
  {
   "cell_type": "code",
   "execution_count": 165,
   "metadata": {},
   "outputs": [
    {
     "data": {
      "text/markdown": [
       "### Visualisasi Kolom Daerah"
      ],
      "text/plain": [
       "<IPython.core.display.Markdown object>"
      ]
     },
     "metadata": {},
     "output_type": "display_data"
    },
    {
     "data": {
      "text/markdown": [
       "**Data statistik**"
      ],
      "text/plain": [
       "<IPython.core.display.Markdown object>"
      ]
     },
     "metadata": {},
     "output_type": "display_data"
    },
    {
     "name": "stdout",
     "output_type": "stream",
     "text": [
      "Skewness  : 0.23814408738280812\n",
      "Kurtosis  : -0.4346305340273977\n",
      "Kuartil 1 : 4042.75\n",
      "Median    : 4735.0\n",
      "Kuartil 3 : 5495.5\n"
     ]
    },
    {
     "data": {
      "text/markdown": [
       "***"
      ],
      "text/plain": [
       "<IPython.core.display.Markdown object>"
      ]
     },
     "metadata": {},
     "output_type": "display_data"
    },
    {
     "data": {
      "text/markdown": [
       "Berdasarkan data statistik pada kolom Daerah, didapat nilai skewness $0.238144$ sehingga dapat disimpulkan bahwa kolom bersifat ***symmetrically distributed***"
      ],
      "text/plain": [
       "<IPython.core.display.Markdown object>"
      ]
     },
     "metadata": {},
     "output_type": "display_data"
    },
    {
     "data": {
      "text/markdown": [
       "Keruncingan grafik dapat diketahui dari nilai kurtosis kolom yang bernilai $-0.434631$ . Terdapat banyak nilai ekstrem bawah, sehingga distribusi disebut ***platykurtic distribution***. "
      ],
      "text/plain": [
       "<IPython.core.display.Markdown object>"
      ]
     },
     "metadata": {},
     "output_type": "display_data"
    },
    {
     "data": {
      "text/markdown": [
       "Dari visualisasi boxplot, dapat dilihat bahwa data pada kolom Daerah tidak memiliki pencilan."
      ],
      "text/plain": [
       "<IPython.core.display.Markdown object>"
      ]
     },
     "metadata": {},
     "output_type": "display_data"
    },
    {
     "data": {
      "image/png": "[encoded data removed]",
      "text/plain": [
       "<Figure size 720x288 with 2 Axes>"
      ]
     },
     "metadata": {
      "needs_background": "light"
     },
     "output_type": "display_data"
    }
   ],
   "source": [
    "printAll(\"Daerah\")\n",
    "markdown(\"Dari visualisasi boxplot, dapat dilihat bahwa data pada kolom Daerah tidak memiliki pencilan.\")"
   ]
  },
  {
   "cell_type": "code",
   "execution_count": 166,
   "metadata": {},
   "outputs": [
    {
     "data": {
      "text/markdown": [
       "### Visualisasi Kolom SumbuUtama"
      ],
      "text/plain": [
       "<IPython.core.display.Markdown object>"
      ]
     },
     "metadata": {},
     "output_type": "display_data"
    },
    {
     "data": {
      "text/markdown": [
       "**Data statistik**"
      ],
      "text/plain": [
       "<IPython.core.display.Markdown object>"
      ]
     },
     "metadata": {},
     "output_type": "display_data"
    },
    {
     "name": "stdout",
     "output_type": "stream",
     "text": [
      "Skewness  : 0.7615287378076631\n",
      "Kurtosis  : 4.330533548436968\n",
      "Kuartil 1 : 104.11609817499999\n",
      "Median    : 115.40513994999999\n",
      "Kuartil 3 : 129.046792025\n"
     ]
    },
    {
     "data": {
      "text/markdown": [
       "***"
      ],
      "text/plain": [
       "<IPython.core.display.Markdown object>"
      ]
     },
     "metadata": {},
     "output_type": "display_data"
    },
    {
     "data": {
      "text/markdown": [
       "Berdasarkan data statistik pada kolom SumbuUtama, didapat nilai skewness $0.761529$ sehingga dapat disimpulkan bahwa kolom bersifat ***positively skewed***, yaitu data dengan nilai yang kecil memiliki frekuensi yang tinggi."
      ],
      "text/plain": [
       "<IPython.core.display.Markdown object>"
      ]
     },
     "metadata": {},
     "output_type": "display_data"
    },
    {
     "data": {
      "text/markdown": [
       "Keruncingan grafik dapat diketahui dari nilai kurtosis kolom yang bernilai $4.330534$ . Terdapat banyak nilai ekstrem atas, sehingga distribusi disebut ***leptokurtic distribution***. "
      ],
      "text/plain": [
       "<IPython.core.display.Markdown object>"
      ]
     },
     "metadata": {},
     "output_type": "display_data"
    },
    {
     "data": {
      "text/markdown": [
       "Dari visualisasi boxplot, dapat dilihat bahwa data pada kolom SumbuUtama memiliki pencilan atas."
      ],
      "text/plain": [
       "<IPython.core.display.Markdown object>"
      ]
     },
     "metadata": {},
     "output_type": "display_data"
    },
    {
     "data": {
      "image/png": "[encoded data removed]",
      "text/plain": [
       "<Figure size 720x288 with 2 Axes>"
      ]
     },
     "metadata": {
      "needs_background": "light"
     },
     "output_type": "display_data"
    }
   ],
   "source": [
    "printAll(\"SumbuUtama\")\n",
    "markdown(\"Dari visualisasi boxplot, dapat dilihat bahwa data pada kolom SumbuUtama memiliki pencilan atas.\")"
   ]
  },
  {
   "cell_type": "code",
   "execution_count": 167,
   "metadata": {},
   "outputs": [
    {
     "data": {
      "text/markdown": [
       "### Visualisasi Kolom SumbuKecil"
      ],
      "text/plain": [
       "<IPython.core.display.Markdown object>"
      ]
     },
     "metadata": {},
     "output_type": "display_data"
    },
    {
     "data": {
      "text/markdown": [
       "**Data statistik**"
      ],
      "text/plain": [
       "<IPython.core.display.Markdown object>"
      ]
     },
     "metadata": {},
     "output_type": "display_data"
    },
    {
     "name": "stdout",
     "output_type": "stream",
     "text": [
      "Skewness  : -0.010828051555611359\n",
      "Kurtosis  : 0.47556845043813656\n",
      "Kuartil 1 : 51.1935763325\n",
      "Median    : 53.731198774999996\n",
      "Kuartil 3 : 56.3251579825\n"
     ]
    },
    {
     "data": {
      "text/markdown": [
       "***"
      ],
      "text/plain": [
       "<IPython.core.display.Markdown object>"
      ]
     },
     "metadata": {},
     "output_type": "display_data"
    },
    {
     "data": {
      "text/markdown": [
       "Berdasarkan data statistik pada kolom SumbuKecil, didapat nilai skewness $-0.010828$ sehingga dapat disimpulkan bahwa kolom bersifat ***symmetrically distributed***"
      ],
      "text/plain": [
       "<IPython.core.display.Markdown object>"
      ]
     },
     "metadata": {},
     "output_type": "display_data"
    },
    {
     "data": {
      "text/markdown": [
       "Keruncingan grafik dapat diketahui dari nilai kurtosis kolom yang bernilai $0.475568$ . Terdapat banyak nilai ekstrem atas, sehingga distribusi disebut ***leptokurtic distribution***. "
      ],
      "text/plain": [
       "<IPython.core.display.Markdown object>"
      ]
     },
     "metadata": {},
     "output_type": "display_data"
    },
    {
     "data": {
      "text/markdown": [
       "Dari visualisasi boxplot, dapat dilihat bahwa data pada kolom SumbuKecil memiliki pencilan atas dan pencilan bawah."
      ],
      "text/plain": [
       "<IPython.core.display.Markdown object>"
      ]
     },
     "metadata": {},
     "output_type": "display_data"
    },
    {
     "data": {
      "image/png": "[encoded data removed]",
      "text/plain": [
       "<Figure size 720x288 with 2 Axes>"
      ]
     },
     "metadata": {
      "needs_background": "light"
     },
     "output_type": "display_data"
    }
   ],
   "source": [
    "printAll(\"SumbuKecil\")\n",
    "markdown(\"Dari visualisasi boxplot, dapat dilihat bahwa data pada kolom SumbuKecil memiliki pencilan atas dan pencilan bawah.\")"
   ]
  },
  {
   "cell_type": "code",
   "execution_count": 168,
   "metadata": {},
   "outputs": [
    {
     "data": {
      "text/markdown": [
       "### Visualisasi Kolom Keunikan"
      ],
      "text/plain": [
       "<IPython.core.display.Markdown object>"
      ]
     },
     "metadata": {},
     "output_type": "display_data"
    },
    {
     "data": {
      "text/markdown": [
       "**Data statistik**"
      ],
      "text/plain": [
       "<IPython.core.display.Markdown object>"
      ]
     },
     "metadata": {},
     "output_type": "display_data"
    },
    {
     "name": "stdout",
     "output_type": "stream",
     "text": [
      "Skewness  : -1.6234718222806501\n",
      "Kurtosis  : 2.917255925694389\n",
      "Kuartil 1 : 0.8636757527500001\n",
      "Median    : 0.8900454185\n",
      "Kuartil 3 : 0.907577917\n"
     ]
    },
    {
     "data": {
      "text/markdown": [
       "***"
      ],
      "text/plain": [
       "<IPython.core.display.Markdown object>"
      ]
     },
     "metadata": {},
     "output_type": "display_data"
    },
    {
     "data": {
      "text/markdown": [
       "Berdasarkan data statistik pada kolom Keunikan, didapat nilai skewness $-1.623472$ sehingga dapat disimpulkan bahwa kolom bersifat ***negatively skewed***, yaitu data dengan nilai yang besar memiliki frekuensi yang tinggi."
      ],
      "text/plain": [
       "<IPython.core.display.Markdown object>"
      ]
     },
     "metadata": {},
     "output_type": "display_data"
    },
    {
     "data": {
      "text/markdown": [
       "Keruncingan grafik dapat diketahui dari nilai kurtosis kolom yang bernilai $2.917256$ . Terdapat banyak nilai ekstrem atas, sehingga distribusi disebut ***leptokurtic distribution***. "
      ],
      "text/plain": [
       "<IPython.core.display.Markdown object>"
      ]
     },
     "metadata": {},
     "output_type": "display_data"
    },
    {
     "data": {
      "text/markdown": [
       "Dari visualisasi boxplot, dapat dilihat bahwa data pada kolom Keunikan memiliki banyak pencilan bawah."
      ],
      "text/plain": [
       "<IPython.core.display.Markdown object>"
      ]
     },
     "metadata": {},
     "output_type": "display_data"
    },
    {
     "data": {
      "image/png": "[encoded data removed]",
      "text/plain": [
       "<Figure size 720x288 with 2 Axes>"
      ]
     },
     "metadata": {
      "needs_background": "light"
     },
     "output_type": "display_data"
    }
   ],
   "source": [
    "printAll(\"Keunikan\")\n",
    "markdown(\"Dari visualisasi boxplot, dapat dilihat bahwa data pada kolom Keunikan memiliki banyak pencilan bawah.\")"
   ]
  },
  {
   "cell_type": "code",
   "execution_count": 169,
   "metadata": {},
   "outputs": [
    {
     "data": {
      "text/markdown": [
       "### Visualisasi Kolom AreaBulatan"
      ],
      "text/plain": [
       "<IPython.core.display.Markdown object>"
      ]
     },
     "metadata": {},
     "output_type": "display_data"
    },
    {
     "data": {
      "text/markdown": [
       "**Data statistik**"
      ],
      "text/plain": [
       "<IPython.core.display.Markdown object>"
      ]
     },
     "metadata": {},
     "output_type": "display_data"
    },
    {
     "name": "stdout",
     "output_type": "stream",
     "text": [
      "Skewness  : 0.2575600053152032\n",
      "Kurtosis  : -0.40968492037366033\n",
      "Kuartil 1 : 4170.25\n",
      "Median    : 4857.0\n",
      "Kuartil 3 : 5654.25\n"
     ]
    },
    {
     "data": {
      "text/markdown": [
       "***"
      ],
      "text/plain": [
       "<IPython.core.display.Markdown object>"
      ]
     },
     "metadata": {},
     "output_type": "display_data"
    },
    {
     "data": {
      "text/markdown": [
       "Berdasarkan data statistik pada kolom AreaBulatan, didapat nilai skewness $0.257560$ sehingga dapat disimpulkan bahwa kolom bersifat ***symmetrically distributed***"
      ],
      "text/plain": [
       "<IPython.core.display.Markdown object>"
      ]
     },
     "metadata": {},
     "output_type": "display_data"
    },
    {
     "data": {
      "text/markdown": [
       "Keruncingan grafik dapat diketahui dari nilai kurtosis kolom yang bernilai $-0.409685$ . Terdapat banyak nilai ekstrem bawah, sehingga distribusi disebut ***platykurtic distribution***. "
      ],
      "text/plain": [
       "<IPython.core.display.Markdown object>"
      ]
     },
     "metadata": {},
     "output_type": "display_data"
    },
    {
     "data": {
      "text/markdown": [
       "Dari visualisasi boxplot, dapat dilihat bahwa data pada kolom AreaBulatan tidak memiliki pencilan."
      ],
      "text/plain": [
       "<IPython.core.display.Markdown object>"
      ]
     },
     "metadata": {},
     "output_type": "display_data"
    },
    {
     "data": {
      "image/png": "[encoded data removed]",
      "text/plain": [
       "<Figure size 720x288 with 2 Axes>"
      ]
     },
     "metadata": {
      "needs_background": "light"
     },
     "output_type": "display_data"
    }
   ],
   "source": [
    "printAll(\"AreaBulatan\")\n",
    "markdown(\"Dari visualisasi boxplot, dapat dilihat bahwa data pada kolom AreaBulatan tidak memiliki pencilan.\")"
   ]
  },
  {
   "cell_type": "code",
   "execution_count": 170,
   "metadata": {},
   "outputs": [
    {
     "data": {
      "text/markdown": [
       "### Visualisasi Kolom Diameter"
      ],
      "text/plain": [
       "<IPython.core.display.Markdown object>"
      ]
     },
     "metadata": {},
     "output_type": "display_data"
    },
    {
     "data": {
      "text/markdown": [
       "**Data statistik**"
      ],
      "text/plain": [
       "<IPython.core.display.Markdown object>"
      ]
     },
     "metadata": {},
     "output_type": "display_data"
    },
    {
     "name": "stdout",
     "output_type": "stream",
     "text": [
      "Skewness  : 0.002724966865193717\n",
      "Kurtosis  : -0.4664545130312141\n",
      "Kuartil 1 : 71.74530754749999\n",
      "Median    : 77.64527658\n",
      "Kuartil 3 : 83.6485975675\n"
     ]
    },
    {
     "data": {
      "text/markdown": [
       "***"
      ],
      "text/plain": [
       "<IPython.core.display.Markdown object>"
      ]
     },
     "metadata": {},
     "output_type": "display_data"
    },
    {
     "data": {
      "text/markdown": [
       "Berdasarkan data statistik pada kolom Diameter, didapat nilai skewness $0.002725$ sehingga dapat disimpulkan bahwa kolom bersifat ***symmetrically distributed***"
      ],
      "text/plain": [
       "<IPython.core.display.Markdown object>"
      ]
     },
     "metadata": {},
     "output_type": "display_data"
    },
    {
     "data": {
      "text/markdown": [
       "Keruncingan grafik dapat diketahui dari nilai kurtosis kolom yang bernilai $-0.466455$ . Terdapat banyak nilai ekstrem bawah, sehingga distribusi disebut ***platykurtic distribution***. "
      ],
      "text/plain": [
       "<IPython.core.display.Markdown object>"
      ]
     },
     "metadata": {},
     "output_type": "display_data"
    },
    {
     "data": {
      "text/markdown": [
       "Dari visualisasi boxplot, dapat dilihat bahwa data pada kolom Diameter tidak memiliki pencilan."
      ],
      "text/plain": [
       "<IPython.core.display.Markdown object>"
      ]
     },
     "metadata": {},
     "output_type": "display_data"
    },
    {
     "data": {
      "image/png": "[encoded data removed]",
      "text/plain": [
       "<Figure size 720x288 with 2 Axes>"
      ]
     },
     "metadata": {
      "needs_background": "light"
     },
     "output_type": "display_data"
    }
   ],
   "source": [
    "printAll(\"Diameter\")\n",
    "markdown(\"Dari visualisasi boxplot, dapat dilihat bahwa data pada kolom Diameter tidak memiliki pencilan.\")"
   ]
  },
  {
   "cell_type": "code",
   "execution_count": 171,
   "metadata": {},
   "outputs": [
    {
     "data": {
      "text/markdown": [
       "### Visualisasi Kolom KadarAir"
      ],
      "text/plain": [
       "<IPython.core.display.Markdown object>"
      ]
     },
     "metadata": {},
     "output_type": "display_data"
    },
    {
     "data": {
      "text/markdown": [
       "**Data statistik**"
      ],
      "text/plain": [
       "<IPython.core.display.Markdown object>"
      ]
     },
     "metadata": {},
     "output_type": "display_data"
    },
    {
     "name": "stdout",
     "output_type": "stream",
     "text": [
      "Skewness  : 0.49366131797330265\n",
      "Kurtosis  : -0.7403261705867821\n",
      "Kuartil 1 : 0.57263245725\n",
      "Median    : 0.626116699\n",
      "Kuartil 3 : 0.7266333445000001\n"
     ]
    },
    {
     "data": {
      "text/markdown": [
       "***"
      ],
      "text/plain": [
       "<IPython.core.display.Markdown object>"
      ]
     },
     "metadata": {},
     "output_type": "display_data"
    },
    {
     "data": {
      "text/markdown": [
       "Berdasarkan data statistik pada kolom KadarAir, didapat nilai skewness $0.493661$ sehingga dapat disimpulkan bahwa kolom bersifat ***symmetrically distributed***"
      ],
      "text/plain": [
       "<IPython.core.display.Markdown object>"
      ]
     },
     "metadata": {},
     "output_type": "display_data"
    },
    {
     "data": {
      "text/markdown": [
       "Keruncingan grafik dapat diketahui dari nilai kurtosis kolom yang bernilai $-0.740326$ . Terdapat banyak nilai ekstrem bawah, sehingga distribusi disebut ***platykurtic distribution***. "
      ],
      "text/plain": [
       "<IPython.core.display.Markdown object>"
      ]
     },
     "metadata": {},
     "output_type": "display_data"
    },
    {
     "data": {
      "text/markdown": [
       "Dari visualisasi boxplot, dapat dilihat bahwa data pada kolom KadarAir tidak memiliki pencilan."
      ],
      "text/plain": [
       "<IPython.core.display.Markdown object>"
      ]
     },
     "metadata": {},
     "output_type": "display_data"
    },
    {
     "data": {
      "image/png": "[encoded data removed]",
      "text/plain": [
       "<Figure size 720x288 with 2 Axes>"
      ]
     },
     "metadata": {
      "needs_background": "light"
     },
     "output_type": "display_data"
    }
   ],
   "source": [
    "printAll(\"KadarAir\")\n",
    "markdown(\"Dari visualisasi boxplot, dapat dilihat bahwa data pada kolom KadarAir tidak memiliki pencilan.\")"
   ]
  },
  {
   "cell_type": "code",
   "execution_count": 172,
   "metadata": {},
   "outputs": [
    {
     "data": {
      "text/markdown": [
       "### Visualisasi Kolom Keliling"
      ],
      "text/plain": [
       "<IPython.core.display.Markdown object>"
      ]
     },
     "metadata": {},
     "output_type": "display_data"
    },
    {
     "data": {
      "text/markdown": [
       "**Data statistik**"
      ],
      "text/plain": [
       "<IPython.core.display.Markdown object>"
      ]
     },
     "metadata": {},
     "output_type": "display_data"
    },
    {
     "name": "stdout",
     "output_type": "stream",
     "text": [
      "Skewness  : 0.7336269072005543\n",
      "Kurtosis  : 2.272684731245571\n",
      "Kuartil 1 : 255.88299999999998\n",
      "Median    : 280.04549999999995\n",
      "Kuartil 3 : 306.0625\n"
     ]
    },
    {
     "data": {
      "text/markdown": [
       "***"
      ],
      "text/plain": [
       "<IPython.core.display.Markdown object>"
      ]
     },
     "metadata": {},
     "output_type": "display_data"
    },
    {
     "data": {
      "text/markdown": [
       "Berdasarkan data statistik pada kolom Keliling, didapat nilai skewness $0.733627$ sehingga dapat disimpulkan bahwa kolom bersifat ***positively skewed***, yaitu data dengan nilai yang kecil memiliki frekuensi yang tinggi."
      ],
      "text/plain": [
       "<IPython.core.display.Markdown object>"
      ]
     },
     "metadata": {},
     "output_type": "display_data"
    },
    {
     "data": {
      "text/markdown": [
       "Keruncingan grafik dapat diketahui dari nilai kurtosis kolom yang bernilai $2.272685$ . Terdapat banyak nilai ekstrem atas, sehingga distribusi disebut ***leptokurtic distribution***. "
      ],
      "text/plain": [
       "<IPython.core.display.Markdown object>"
      ]
     },
     "metadata": {},
     "output_type": "display_data"
    },
    {
     "data": {
      "text/markdown": [
       "Dari visualisasi boxplot, dapat dilihat bahwa data pada kolom Keliling memiliki pencilan atas."
      ],
      "text/plain": [
       "<IPython.core.display.Markdown object>"
      ]
     },
     "metadata": {},
     "output_type": "display_data"
    },
    {
     "data": {
      "image/png": "[encoded data removed]",
      "text/plain": [
       "<Figure size 720x288 with 2 Axes>"
      ]
     },
     "metadata": {
      "needs_background": "light"
     },
     "output_type": "display_data"
    }
   ],
   "source": [
    "printAll(\"Keliling\")\n",
    "markdown(\"Dari visualisasi boxplot, dapat dilihat bahwa data pada kolom Keliling memiliki pencilan atas.\")"
   ]
  },
  {
   "cell_type": "code",
   "execution_count": 173,
   "metadata": {},
   "outputs": [
    {
     "data": {
      "text/markdown": [
       "### Visualisasi Kolom Bulatan"
      ],
      "text/plain": [
       "<IPython.core.display.Markdown object>"
      ]
     },
     "metadata": {},
     "output_type": "display_data"
    },
    {
     "data": {
      "text/markdown": [
       "**Data statistik**"
      ],
      "text/plain": [
       "<IPython.core.display.Markdown object>"
      ]
     },
     "metadata": {},
     "output_type": "display_data"
    },
    {
     "name": "stdout",
     "output_type": "stream",
     "text": [
      "Skewness  : -3.5992367663616407\n",
      "Kurtosis  : 29.97509590463005\n",
      "Kuartil 1 : 0.731990728\n",
      "Median    : 0.7612884395\n",
      "Kuartil 3 : 0.79636096975\n"
     ]
    },
    {
     "data": {
      "text/markdown": [
       "***"
      ],
      "text/plain": [
       "<IPython.core.display.Markdown object>"
      ]
     },
     "metadata": {},
     "output_type": "display_data"
    },
    {
     "ename": "UnboundLocalError",
     "evalue": "local variable 'text3' referenced before assignment",
     "output_type": "error",
     "traceback": [
      "\u001b[0;31m---------------------------------------------------------------------------\u001b[0m",
      "\u001b[0;31mUnboundLocalError\u001b[0m                         Traceback (most recent call last)",
      "\u001b[0;32m<ipython-input-173-68dcdd9d7226>\u001b[0m in \u001b[0;36m<module>\u001b[0;34m\u001b[0m\n\u001b[0;32m----> 1\u001b[0;31m \u001b[0mprintAll\u001b[0m\u001b[0;34m(\u001b[0m\u001b[0;34m\"Bulatan\"\u001b[0m\u001b[0;34m)\u001b[0m\u001b[0;34m\u001b[0m\u001b[0;34m\u001b[0m\u001b[0m\n\u001b[0m\u001b[1;32m      2\u001b[0m \u001b[0mmarkdown\u001b[0m\u001b[0;34m(\u001b[0m\u001b[0;34m\"Dari visualisasi boxplot, dapat dilihat bahwa data pada kolom Bulatan memiliki pencilan atas.\"\u001b[0m\u001b[0;34m)\u001b[0m\u001b[0;34m\u001b[0m\u001b[0;34m\u001b[0m\u001b[0m\n",
      "\u001b[0;32m<ipython-input-164-ff9f576f550f>\u001b[0m in \u001b[0;36mprintAll\u001b[0;34m(col)\u001b[0m\n\u001b[1;32m     75\u001b[0m \u001b[0;32mdef\u001b[0m \u001b[0mprintAll\u001b[0m\u001b[0;34m(\u001b[0m\u001b[0mcol\u001b[0m\u001b[0;34m)\u001b[0m\u001b[0;34m:\u001b[0m\u001b[0;34m\u001b[0m\u001b[0;34m\u001b[0m\u001b[0m\n\u001b[1;32m     76\u001b[0m     \u001b[0mvisualT\u001b[0m\u001b[0;34m(\u001b[0m\u001b[0mcol\u001b[0m\u001b[0;34m)\u001b[0m\u001b[0;34m\u001b[0m\u001b[0;34m\u001b[0m\u001b[0m\n\u001b[0;32m---> 77\u001b[0;31m     \u001b[0mfetch\u001b[0m\u001b[0;34m(\u001b[0m\u001b[0mcol\u001b[0m\u001b[0;34m)\u001b[0m\u001b[0;34m\u001b[0m\u001b[0;34m\u001b[0m\u001b[0m\n\u001b[0m\u001b[1;32m     78\u001b[0m     \u001b[0mvisual\u001b[0m\u001b[0;34m(\u001b[0m\u001b[0mcol\u001b[0m\u001b[0;34m)\u001b[0m\u001b[0;34m\u001b[0m\u001b[0;34m\u001b[0m\u001b[0m\n\u001b[1;32m     79\u001b[0m \u001b[0;34m\u001b[0m\u001b[0m\n",
      "\u001b[0;32m<ipython-input-164-ff9f576f550f>\u001b[0m in \u001b[0;36mfetch\u001b[0;34m(col)\u001b[0m\n\u001b[1;32m     69\u001b[0m \u001b[0;34m\u001b[0m\u001b[0m\n\u001b[1;32m     70\u001b[0m     \u001b[0;31m# print skewness\u001b[0m\u001b[0;34m\u001b[0m\u001b[0;34m\u001b[0m\u001b[0;34m\u001b[0m\u001b[0m\n\u001b[0;32m---> 71\u001b[0;31m     \u001b[0mmarkdown\u001b[0m\u001b[0;34m(\u001b[0m\u001b[0mtext1\u001b[0m \u001b[0;34m+\u001b[0m \u001b[0mtext2\u001b[0m \u001b[0;34m+\u001b[0m \u001b[0mtext3\u001b[0m\u001b[0;34m)\u001b[0m\u001b[0;34m\u001b[0m\u001b[0;34m\u001b[0m\u001b[0m\n\u001b[0m\u001b[1;32m     72\u001b[0m     \u001b[0;31m# print kurtosis\u001b[0m\u001b[0;34m\u001b[0m\u001b[0;34m\u001b[0m\u001b[0;34m\u001b[0m\u001b[0m\n\u001b[1;32m     73\u001b[0m     \u001b[0mmarkdown\u001b[0m\u001b[0;34m(\u001b[0m\u001b[0mtext4\u001b[0m \u001b[0;34m+\u001b[0m \u001b[0mtext5\u001b[0m\u001b[0;34m)\u001b[0m\u001b[0;34m\u001b[0m\u001b[0;34m\u001b[0m\u001b[0m\n",
      "\u001b[0;31mUnboundLocalError\u001b[0m: local variable 'text3' referenced before assignment"
     ]
    }
   ],
   "source": [
    "printAll(\"Bulatan\")\n",
    "markdown(\"Dari visualisasi boxplot, dapat dilihat bahwa data pada kolom Bulatan memiliki pencilan atas.\")"
   ]
  },
  {
   "cell_type": "code",
   "execution_count": 174,
   "metadata": {},
   "outputs": [
    {
     "data": {
      "text/markdown": [
       "### Visualisasi Kolom Ransum"
      ],
      "text/plain": [
       "<IPython.core.display.Markdown object>"
      ]
     },
     "metadata": {},
     "output_type": "display_data"
    },
    {
     "data": {
      "text/markdown": [
       "**Data statistik**"
      ],
      "text/plain": [
       "<IPython.core.display.Markdown object>"
      ]
     },
     "metadata": {},
     "output_type": "display_data"
    },
    {
     "name": "stdout",
     "output_type": "stream",
     "text": [
      "Skewness  : -0.6581880925333653\n",
      "Kurtosis  : -0.4286557930626156\n",
      "Kuartil 1 : 1.98393879075\n",
      "Median    : 2.1935990365\n",
      "Kuartil 3 : 2.38161221825\n"
     ]
    },
    {
     "data": {
      "text/markdown": [
       "***"
      ],
      "text/plain": [
       "<IPython.core.display.Markdown object>"
      ]
     },
     "metadata": {},
     "output_type": "display_data"
    },
    {
     "data": {
      "text/markdown": [
       "Berdasarkan data statistik pada kolom Ransum, didapat nilai skewness $-0.658188$ sehingga dapat disimpulkan bahwa kolom bersifat ***negatively skewed***, yaitu data dengan nilai yang besar memiliki frekuensi yang tinggi."
      ],
      "text/plain": [
       "<IPython.core.display.Markdown object>"
      ]
     },
     "metadata": {},
     "output_type": "display_data"
    },
    {
     "data": {
      "text/markdown": [
       "Keruncingan grafik dapat diketahui dari nilai kurtosis kolom yang bernilai $-0.428656$ . Terdapat banyak nilai ekstrem bawah, sehingga distribusi disebut ***platykurtic distribution***. "
      ],
      "text/plain": [
       "<IPython.core.display.Markdown object>"
      ]
     },
     "metadata": {},
     "output_type": "display_data"
    },
    {
     "data": {
      "text/markdown": [
       "Dari visualisasi boxplot, dapat dilihat bahwa data pada kolom Ransum tidak memiliki pencilan."
      ],
      "text/plain": [
       "<IPython.core.display.Markdown object>"
      ]
     },
     "metadata": {},
     "output_type": "display_data"
    },
    {
     "data": {
      "image/png": "[encoded data removed]",
      "text/plain": [
       "<Figure size 720x288 with 2 Axes>"
      ]
     },
     "metadata": {
      "needs_background": "light"
     },
     "output_type": "display_data"
    }
   ],
   "source": [
    "printAll(\"Ransum\")\n",
    "markdown(\"Dari visualisasi boxplot, dapat dilihat bahwa data pada kolom Ransum tidak memiliki pencilan.\")"
   ]
  },
  {
   "cell_type": "markdown",
   "metadata": {},
   "source": [
    "## 3. Penentuan Distribusi Normal\n",
    "Menggunakan normality test yang dikaitkan dengan histogram plot untuk menentukan setiap kolom numerik berdistribusi normal atau tidak"
   ]
  },
  {
   "cell_type": "code",
   "execution_count": 159,
   "metadata": {
    "scrolled": true
   },
   "outputs": [],
   "source": [
    "def isDistNorm(column):\n",
    "    #Cari nilai alpha dan p-value\n",
    "    alpha = 0.05\n",
    "    stat, pval = stats.normaltest(new_df[column])\n",
    "    print(\"Stat    : %3f\" %(stat))\n",
    "    print(\"Alpha   : %3f\" %(alpha))\n",
    "    print(\"p-value : %3f\" %(pval))\n",
    "    #Jika p-value < alpha, berarti kolom tersebut tidak berdistribusi normal\n",
    "    if (pval < alpha):\n",
    "        print(\"Data kolom %s tidak berdistribusi normal\" %(column))\n",
    "    else:\n",
    "        print(\"Data kolom %s berdistribusi normal\" %(column))\n",
    "        \n",
    "    #Plotting\n",
    "    plt.subplots()\n",
    "    df[column].plot.hist(density=\"True\",rwidth=0.80, color=\"orange\",bins=15)\n",
    "    df[column].plot.kde(color=\"tab:red\")\n",
    "    plt.title(column)\n",
    "    plt.xlabel(\"Value\")\n",
    "\n",
    "    plt.show()\n",
    "    "
   ]
  },
  {
   "cell_type": "code",
   "execution_count": 160,
   "metadata": {
    "scrolled": false
   },
   "outputs": [
    {
     "data": {
      "text/markdown": [
       "### Kolom Daerah"
      ],
      "text/plain": [
       "<IPython.core.display.Markdown object>"
      ]
     },
     "metadata": {},
     "output_type": "display_data"
    },
    {
     "name": "stdout",
     "output_type": "stream",
     "text": [
      "Stat    : 10.858551\n",
      "Alpha   : 0.050000\n",
      "p-value : 0.004386\n",
      "Data kolom Daerah tidak berdistribusi normal\n"
     ]
    },
    {
     "data": {
      "image/png": "[encoded data removed]",
      "text/plain": [
       "<Figure size 432x288 with 1 Axes>"
      ]
     },
     "metadata": {
      "needs_background": "light"
     },
     "output_type": "display_data"
    },
    {
     "data": {
      "text/markdown": [
       "### Kolom SumbuUtama"
      ],
      "text/plain": [
       "<IPython.core.display.Markdown object>"
      ]
     },
     "metadata": {},
     "output_type": "display_data"
    },
    {
     "name": "stdout",
     "output_type": "stream",
     "text": [
      "Stat    : 95.120108\n",
      "Alpha   : 0.050000\n",
      "p-value : 0.000000\n",
      "Data kolom SumbuUtama tidak berdistribusi normal\n"
     ]
    },
    {
     "data": {
      "image/png": "[encoded data removed]",
      "text/plain": [
       "<Figure size 432x288 with 1 Axes>"
      ]
     },
     "metadata": {
      "needs_background": "light"
     },
     "output_type": "display_data"
    },
    {
     "data": {
      "text/markdown": [
       "### Kolom SumbuKecil"
      ],
      "text/plain": [
       "<IPython.core.display.Markdown object>"
      ]
     },
     "metadata": {},
     "output_type": "display_data"
    },
    {
     "name": "stdout",
     "output_type": "stream",
     "text": [
      "Stat    : 3.698394\n",
      "Alpha   : 0.050000\n",
      "p-value : 0.157363\n",
      "Data kolom SumbuKecil berdistribusi normal\n"
     ]
    },
    {
     "data": {
      "image/png": "[encoded data removed]",
      "text/plain": [
       "<Figure size 432x288 with 1 Axes>"
      ]
     },
     "metadata": {
      "needs_background": "light"
     },
     "output_type": "display_data"
    },
    {
     "data": {
      "text/markdown": [
       "### Kolom Keunikan"
      ],
      "text/plain": [
       "<IPython.core.display.Markdown object>"
      ]
     },
     "metadata": {},
     "output_type": "display_data"
    },
    {
     "name": "stdout",
     "output_type": "stream",
     "text": [
      "Stat    : 158.617439\n",
      "Alpha   : 0.050000\n",
      "p-value : 0.000000\n",
      "Data kolom Keunikan tidak berdistribusi normal\n"
     ]
    },
    {
     "data": {
      "image/png": "[encoded data removed]",
      "text/plain": [
       "<Figure size 432x288 with 1 Axes>"
      ]
     },
     "metadata": {
      "needs_background": "light"
     },
     "output_type": "display_data"
    },
    {
     "data": {
      "text/markdown": [
       "### Kolom AreaBulatan"
      ],
      "text/plain": [
       "<IPython.core.display.Markdown object>"
      ]
     },
     "metadata": {},
     "output_type": "display_data"
    },
    {
     "name": "stdout",
     "output_type": "stream",
     "text": [
      "Stat    : 10.738742\n",
      "Alpha   : 0.050000\n",
      "p-value : 0.004657\n",
      "Data kolom AreaBulatan tidak berdistribusi normal\n"
     ]
    },
    {
     "data": {
      "image/png": "[encoded data removed]",
      "text/plain": [
       "<Figure size 432x288 with 1 Axes>"
      ]
     },
     "metadata": {
      "needs_background": "light"
     },
     "output_type": "display_data"
    },
    {
     "data": {
      "text/markdown": [
       "### Kolom Diameter"
      ],
      "text/plain": [
       "<IPython.core.display.Markdown object>"
      ]
     },
     "metadata": {},
     "output_type": "display_data"
    },
    {
     "name": "stdout",
     "output_type": "stream",
     "text": [
      "Stat    : 7.446346\n",
      "Alpha   : 0.050000\n",
      "p-value : 0.024157\n",
      "Data kolom Diameter tidak berdistribusi normal\n"
     ]
    },
    {
     "data": {
      "image/png": "[encoded data removed]",
      "text/plain": [
       "<Figure size 432x288 with 1 Axes>"
      ]
     },
     "metadata": {
      "needs_background": "light"
     },
     "output_type": "display_data"
    },
    {
     "data": {
      "text/markdown": [
       "### Kolom KadarAir"
      ],
      "text/plain": [
       "<IPython.core.display.Markdown object>"
      ]
     },
     "metadata": {},
     "output_type": "display_data"
    },
    {
     "name": "stdout",
     "output_type": "stream",
     "text": [
      "Stat    : 48.755923\n",
      "Alpha   : 0.050000\n",
      "p-value : 0.000000\n",
      "Data kolom KadarAir tidak berdistribusi normal\n"
     ]
    },
    {
     "data": {
      "image/png": "[encoded data removed]",
      "text/plain": [
       "<Figure size 432x288 with 1 Axes>"
      ]
     },
     "metadata": {
      "needs_background": "light"
     },
     "output_type": "display_data"
    },
    {
     "data": {
      "text/markdown": [
       "### Kolom Keliling"
      ],
      "text/plain": [
       "<IPython.core.display.Markdown object>"
      ]
     },
     "metadata": {},
     "output_type": "display_data"
    },
    {
     "name": "stdout",
     "output_type": "stream",
     "text": [
      "Stat    : 67.465482\n",
      "Alpha   : 0.050000\n",
      "p-value : 0.000000\n",
      "Data kolom Keliling tidak berdistribusi normal\n"
     ]
    },
    {
     "data": {
      "image/png": "[encoded data removed]",
      "text/plain": [
       "<Figure size 432x288 with 1 Axes>"
      ]
     },
     "metadata": {
      "needs_background": "light"
     },
     "output_type": "display_data"
    },
    {
     "data": {
      "text/markdown": [
       "### Kolom Bulatan"
      ],
      "text/plain": [
       "<IPython.core.display.Markdown object>"
      ]
     },
     "metadata": {},
     "output_type": "display_data"
    },
    {
     "name": "stdout",
     "output_type": "stream",
     "text": [
      "Stat    : 442.119415\n",
      "Alpha   : 0.050000\n",
      "p-value : 0.000000\n",
      "Data kolom Bulatan tidak berdistribusi normal\n"
     ]
    },
    {
     "data": {
      "image/png": "[encoded data removed]",
      "text/plain": [
       "<Figure size 432x288 with 1 Axes>"
      ]
     },
     "metadata": {
      "needs_background": "light"
     },
     "output_type": "display_data"
    },
    {
     "data": {
      "text/markdown": [
       "### Kolom Ransum"
      ],
      "text/plain": [
       "<IPython.core.display.Markdown object>"
      ]
     },
     "metadata": {},
     "output_type": "display_data"
    },
    {
     "name": "stdout",
     "output_type": "stream",
     "text": [
      "Stat    : 37.060320\n",
      "Alpha   : 0.050000\n",
      "p-value : 0.000000\n",
      "Data kolom Ransum tidak berdistribusi normal\n"
     ]
    },
    {
     "data": {
      "image/png": "[encoded data removed]",
      "text/plain": [
       "<Figure size 432x288 with 1 Axes>"
      ]
     },
     "metadata": {
      "needs_background": "light"
     },
     "output_type": "display_data"
    }
   ],
   "source": [
    "#Pemanggilan fungsi isDistNorm untuk semua kolom kecuali target\n",
    "for column in new_df:\n",
    "    markdown(\"### Kolom %s\" %(column))\n",
    "    isDistNorm(column)"
   ]
  },
  {
   "cell_type": "markdown",
   "metadata": {},
   "source": [
    "## 4. Tes Hipotesis 1 Sampel\n",
    "Melakukan test hipotesis 1 sampel, dengan menuliskan 6 langkah testing dan menampilkan juga boxplotnya untuk kolom/bagian yang bersesuaian. Seluruh sampel data dimisalkan berdistribusi normal.\n",
    "***"
   ]
  },
  {
   "cell_type": "markdown",
   "metadata": {},
   "source": [
    "### a. Nilai rata-rata Daerah di atas 4700"
   ]
  },
  {
   "cell_type": "code",
   "execution_count": 161,
   "metadata": {},
   "outputs": [
    {
     "name": "stdout",
     "output_type": "stream",
     "text": [
      "Rata-rata (x_bar)       = 4801.2460\n",
      "Standar deviasi (std)   = 985.4086\n",
      "Daerah kritis (t)       = 1.6449\n",
      "Nilai uji statistik (z) = 2.297452\n",
      "Nilai p-value           = 0.010796\n",
      "\n",
      "H0 REJECTED karena nilai uji terletak di daerah kritis\n",
      "H0 REJECTED karena p-value lebih kecil dibandingkan significance level alpha\n",
      "\n",
      "Disimpulkan bahwa H0 REJECTED dan H1 NOT REJECTED\n"
     ]
    }
   ],
   "source": [
    "# Nilai statistik\n",
    "mu = 4700\n",
    "n = 500\n",
    "x_bar = new_df[\"Daerah\"].mean()\n",
    "std = new_df[\"Daerah\"].std(ddof=0)\n",
    "alpha = 0.05\n",
    "\n",
    "# Daerah kritis\n",
    "t = stats.norm.ppf(1-alpha)\n",
    "\n",
    "# Nilai uji statistik dan p-value\n",
    "z = (x_bar - mu)/(std/math.sqrt(n))\n",
    "p_value = 1 - stats.norm.cdf(z) # P(P > nilai_z)\n",
    "\n",
    "## Data statistik no_1\n",
    "# Rata-rata (x_bar)       = 4801.2460\n",
    "# Standar deviasi (std)   = 985.4086\n",
    "# Daerah kritis (t)       = 1.6449\n",
    "# Nilai uji statistik (z) = 2.297452\n",
    "# Nilai p-value           = 0.010796\n",
    "\n",
    "# Print\n",
    "print(\"Rata-rata (x_bar)       = %.4f\" %(x_bar))\n",
    "print(\"Standar deviasi (std)   = %.4f\" %(std))\n",
    "print(\"Daerah kritis (t)       = %.4f\" %(t))\n",
    "print(\"Nilai uji statistik (z) = %f\" %(z))\n",
    "print(\"Nilai p-value           = %f\" %(p_value))\n",
    "print(\"\")\n",
    "\n",
    "# Pengambilan keputusan \n",
    "reject = False\n",
    "# REJECT H0 jika nilai uji terletak di daerah kritis (disebelah kanan nilai kritis)\n",
    "if (z > t):\n",
    "    reject = True\n",
    "    print(\"H0 REJECTED karena nilai uji terletak di daerah kritis\")\n",
    "else : \n",
    "    print(\"H0 NOT REJECTED karena nilai uji terletak di luar daerah kritis\")\n",
    "# REJECT H0 jika p-value lebih kecil dibanding tingkat signifikansi alpha\n",
    "if (p_value < alpha):\n",
    "    reject = True\n",
    "    print(\"H0 REJECTED karena p-value lebih kecil dibandingkan significance level alpha\")\n",
    "else : \n",
    "    print(\"H0 NOT REJECTED karena p-value lebih besar dibanding significance level alpha\")\n",
    "\n",
    "print(\"\")\n",
    "if (reject):\n",
    "    print (\"Disimpulkan bahwa H0 REJECTED dan H1 NOT REJECTED\")\n",
    "else : \n",
    "    print (\"Disimpulkan bahwa H0 NOT REJECTED dan H1 REJECTED\")"
   ]
  },
  {
   "cell_type": "markdown",
   "metadata": {},
   "source": [
    "***\n",
    "**1. Menentukan hipotesis nol**\n",
    "    $H_0 : \\mu_{daerah} = 4700$\n",
    "\n",
    "**2. Menentukan hipotesis alternatif** \n",
    "    $H_1 : \\mu_{daerah} > 4700$\n",
    "\n",
    "**3. Menentukan tingkat signifikan** \n",
    "    $\\alpha = 0.05$\n",
    "   \n",
    "**4. Menentukan uji statistik yang sesuai dan menentukan daerah kritis**\n",
    "\n",
    "Uji statistik yang dipilih adalah ***Z test***. Hal ini disebabkan:\n",
    "1. Jumlah sampel yang besar $(n \\geq 30)$\n",
    "2. Nilai rata-rata dan standar deviasi sudah diketahui\n",
    "3. Nilai variansi populasi diketahui\n",
    "\n",
    "Daerah kritis untuk hipotesis alternatif $\\theta > \\theta_{0}$ berada pada *right tail* dari distribusi (bersifat *one sided*), sehingga dilakukan jenis test ***one - tailed***. \n",
    "Untuk menentukan nilai $z$ sebagai perbandingan, diambil nilai $z$ dari tabel A.3, yang akan dinotasikan sebagai $z_{\\alpha}$. \n",
    "Nilai *significance level* $\\alpha$ adalah 0.05, maka nilai *confidence level* adalah $1-0.05 = 0.95$. Untuk mendapat nilai demikian, nilai $z_{\\alpha}$ yang bersesuaian adalah **1.645** .\n",
    "\n",
    "Maka, daerah kritis adalah $z_{\\alpha} > 1.645$\n",
    "\n",
    "**5. Menghitung nilai uji statistik dari data sampel serta nilai *p-value* yang sesuai**\n",
    "\n",
    "$z = \\Large\\frac{\\bar{x}-\\mu_0}{\\sigma / \\sqrt{n}}, \\, \\normalsize\\bar{x} = 4801.246, \\, \\sigma = 985.409, \\, n = 500$\n",
    "\n",
    "$z = 2.297452$\n",
    "\n",
    "$p-value = 0.010796$\n",
    "\n",
    "**6. Mengambil keputusan**\n",
    "\n",
    "Berdasarkan data hasil perhitungan, diperoleh keputusan sebagai berikut:\n",
    "1. $H_0$ *REJECTED* karena nilai uji terletak di daerah kritis\n",
    "2. $H_0$ *REJECTED* karena *p-value* lebih kecil dibandingkan *significance level* $\\alpha$\n",
    "\n",
    "Maka, $H_0$ *REJECTED* dan $H_1$ *NOT REJECTED*\n",
    "\n",
    "Dapat disimpulkan bahwa : Nilai rata-rata Daerah di atas 4700 *BENAR*, atau **Nilai rata-rata Daerah di atas 4700**\n",
    "***"
   ]
  },
  {
   "cell_type": "code",
   "execution_count": 162,
   "metadata": {},
   "outputs": [
    {
     "data": {
      "text/markdown": [
       "#### Visualisasi Boxplot"
      ],
      "text/plain": [
       "<IPython.core.display.Markdown object>"
      ]
     },
     "metadata": {},
     "output_type": "display_data"
    },
    {
     "data": {
      "text/plain": [
       "<matplotlib.axes._subplots.AxesSubplot at 0x7feeede56c40>"
      ]
     },
     "execution_count": 162,
     "metadata": {},
     "output_type": "execute_result"
    },
    {
     "data": {
      "image/png": "[encoded data removed]",
      "text/plain": [
       "<Figure size 432x288 with 1 Axes>"
      ]
     },
     "metadata": {
      "needs_background": "light"
     },
     "output_type": "display_data"
    }
   ],
   "source": [
    "markdown(\"#### Visualisasi Boxplot\")\n",
    "new_df.boxplot(\"Daerah\")"
   ]
  },
  {
   "cell_type": "markdown",
   "metadata": {},
   "source": [
    "### b. Nilai Rata-rata Sumbu Utama tidak sama dengan 116"
   ]
  },
  {
   "cell_type": "code",
   "execution_count": 163,
   "metadata": {},
   "outputs": [
    {
     "name": "stdout",
     "output_type": "stream",
     "text": [
      "Rata-rata (x_bar)       = 116.0452\n",
      "Standar deviasi (std)   = 18.2643\n",
      "Daerah kritis R (t)      = 1.9600\n",
      "Nilai uji statistik (z) = 0.055302\n",
      "Nilai p-value           = 0.955898\n",
      "\n",
      "H0 NOT REJECTED karena nilai uji terletak di luar daerah kritis\n",
      "H0 NOT REJECTED karena p-value lebih besar dibanding significance level alpha\n",
      "\n",
      "Disimpulkan bahwa H0 NOT REJECTED dan H1 REJECTED\n"
     ]
    }
   ],
   "source": [
    "# Nilai statistik\n",
    "mu = 116\n",
    "n = 500\n",
    "x_bar = new_df[\"SumbuUtama\"].mean()\n",
    "std = new_df[\"SumbuUtama\"].std(ddof=0)\n",
    "alpha = 0.05/2\n",
    "\n",
    "# Daerah kritis\n",
    "t = stats.norm.ppf(1-alpha)\n",
    "\n",
    "# Nilai uji statistik dan p-value\n",
    "z = (x_bar - mu)/(std/math.sqrt(n))\n",
    "p_valueR = 1 - stats.norm.cdf(z) # P(P > nilai_z)\n",
    "p_value = stats.norm.sf(z) * 2\n",
    "#p_value2 = p_valueR * 2\n",
    "\n",
    "## Data statistik no_b\n",
    "#Rata-rata (x_bar)       = 116.0452\n",
    "#Standar deviasi (std)   = 18.2643\n",
    "#Daerah kritis R (t)      = 1.9600\n",
    "#Nilai uji statistik (z) = 0.055302\n",
    "#Nilai p-value           = 0.955898\n",
    "\n",
    "# Print\n",
    "print(\"Rata-rata (x_bar)       = %.4f\" %(x_bar))\n",
    "print(\"Standar deviasi (std)   = %.4f\" %(std))\n",
    "print(\"Daerah kritis R (t)      = %.4f\" %(t))\n",
    "print(\"Nilai uji statistik (z) = %f\" %(z))\n",
    "print(\"Nilai p-value           = %f\" %(p_value))\n",
    "print(\"\")\n",
    "\n",
    "# Pengambilan keputusan \n",
    "reject = False\n",
    "# REJECT H0 jika nilai uji terletak di daerah kritis (disebelah kanan nilai kritis)\n",
    "if (z > t):\n",
    "    reject = True\n",
    "    print(\"H0 REJECTED karena nilai uji terletak di daerah kritis\")\n",
    "else : \n",
    "    print(\"H0 NOT REJECTED karena nilai uji terletak di luar daerah kritis\")\n",
    "# REJECT H0 jika p-value lebih kecil dibanding tingkat signifikansi alpha\n",
    "if (p_value < alpha):\n",
    "    reject = True\n",
    "    print(\"H0 REJECTED karena p-value lebih kecil dibandingkan significance level alpha\")\n",
    "else : \n",
    "    print(\"H0 NOT REJECTED karena p-value lebih besar dibanding significance level alpha\")\n",
    "\n",
    "print(\"\")\n",
    "if (reject):\n",
    "    print (\"Disimpulkan bahwa H0 REJECTED dan H1 NOT REJECTED\")\n",
    "else : \n",
    "    print (\"Disimpulkan bahwa H0 NOT REJECTED dan H1 REJECTED\")"
   ]
  },
  {
   "cell_type": "markdown",
   "metadata": {},
   "source": [
    "***\n",
    "**1. Menentukan hipotesis nol**\n",
    "    $H_0 : \\mu_{sumbu\\, utama} = 116$\n",
    "\n",
    "**2. Menentukan hipotesis alternatif** \n",
    "    $H_1 : \\mu_{sumbu\\, utama} \\neq 116$\n",
    "\n",
    "**3. Menentukan tingkat signifikan** \n",
    "    $\\alpha = 0.05$\n",
    "   \n",
    "**4. Menentukan uji statistik yang sesuai dan menentukan daerah kritis**\n",
    "\n",
    "Uji statistik yang dipilih adalah ***Z test***. Hal ini disebabkan:\n",
    "1. Jumlah sampel yang besar $(n \\geq 30)$\n",
    "2. Nilai rata-rata dan standar deviasi sudah diketahui\n",
    "3. Nilai variansi populasi diketahui\n",
    "\n",
    "Daerah kritis untuk hipotesis alternatif $\\theta \\neq \\theta_{0}$ berada pada *left tail* dan *right tail* dari distribusi (bersifat *two sided*), sehingga dilakukan jenis test ***two - tailed***. \n",
    "Nilai *significance level* $\\alpha$ adalah 0.05, maka nilai *confidence level* adalah $1-0.05 = 0.95$. Namun, karena distribusi bersifat *two sided* , maka digunakan nilai $\\frac{\\alpha}{2} = 0.025$. Untuk mendapat nilai demikian, nilai kritis $z_\\frac{\\alpha}{2}$ yang bersesuaian adalah **1.9600** .\n",
    "\n",
    "Maka, daerah kritis adalah $z_\\frac{\\alpha}{2} < -1.9600$ dan $z_\\frac{\\alpha}{2} > 1.9600$ \n",
    "\n",
    "**5. Menghitung nilai uji statistik dari data sampel serta nilai *p-value* yang sesuai**\n",
    "\n",
    "$z = \\Large\\frac{\\bar{x}-\\mu_0}{\\sigma / \\sqrt{n}}, \\, \\normalsize\\bar{x} = 116.0452, \\, \\sigma = 18.2643, \\, n = 500$\n",
    "\n",
    "$z = 0.055302$\n",
    "\n",
    "$p-value = 0.955898$\n",
    "\n",
    "**6. Mengambil keputusan**\n",
    "\n",
    "Berdasarkan data hasil perhitungan, diperoleh keputusan sebagai berikut:\n",
    "1. $H_0$ *NOT REJECTED* karena nilai uji terletak di luar daerah kritis\n",
    "2. $H_0$ *NOT REJECTED* karena *p-value* lebih besar dibandingkan *significance level* $\\alpha$\n",
    "\n",
    "Maka, $H_0$ *NOT REJECTED* dan $H_1$ *REJECTED*\n",
    "\n",
    "Dapat disimpulkan bahwa : Nilai rata-rata Sumbu Utama tidak sama dengan 116 *TIDAK BENAR*, atau **Nilai rata-rata Sumbu Utama sama dengan 116**\n",
    "***"
   ]
  },
  {
   "cell_type": "code",
   "execution_count": 130,
   "metadata": {},
   "outputs": [
    {
     "data": {
      "text/markdown": [
       "#### Visualisasi Boxplot"
      ],
      "text/plain": [
       "<IPython.core.display.Markdown object>"
      ]
     },
     "metadata": {},
     "output_type": "display_data"
    },
    {
     "data": {
      "text/plain": [
       "<matplotlib.axes._subplots.AxesSubplot at 0x7feeecd3fcd0>"
      ]
     },
     "execution_count": 130,
     "metadata": {},
     "output_type": "execute_result"
    },
    {
     "data": {
      "image/png": "[encoded data removed]",
      "text/plain": [
       "<Figure size 432x288 with 1 Axes>"
      ]
     },
     "metadata": {
      "needs_background": "light"
     },
     "output_type": "display_data"
    }
   ],
   "source": [
    "markdown(\"#### Visualisasi Boxplot\")\n",
    "new_df.boxplot(\"SumbuUtama\")"
   ]
  },
  {
   "cell_type": "markdown",
   "metadata": {},
   "source": [
    "### c. Nilai Rata-rata 20 baris pertama kolom Sumbu Kecil bukan 50"
   ]
  },
  {
   "cell_type": "code",
   "execution_count": 131,
   "metadata": {},
   "outputs": [
    {
     "name": "stdout",
     "output_type": "stream",
     "text": [
      "Rata-rata (x_bar)           = 54.8873\n",
      "Standar deviasi (S)         = 3.2885\n",
      "Daerah kritis R (t_alpha)   = 2.0930\n",
      "Nilai uji statistik (t)     = 6.478169\n",
      "Nilai p-value               = 3.3020185644245e-06\n",
      "\n",
      "H0 REJECTED karena nilai uji terletak di daerah kritis\n",
      "H0 REJECTED karena p-value lebih kecil dibandingkan significance level alpha\n",
      "\n",
      "Disimpulkan bahwa H0 REJECTED dan H1 NOT REJECTED\n"
     ]
    }
   ],
   "source": [
    "# Nilai statistik\n",
    "mu = 50\n",
    "n = 20\n",
    "sample = new_df.head(n)\n",
    "x_bar = sample[\"SumbuKecil\"].mean()\n",
    "std = sample[\"SumbuKecil\"].std(ddof=0)\n",
    "alpha = 0.05\n",
    "\n",
    "# Daerah kritis\n",
    "# Daerah kritis, t < -t_alpha/2 atau t_alpha > t/2\n",
    "v = n - 1\n",
    "t_alpha = stats.t.ppf(1-alpha/2,v)\n",
    "\n",
    "# Nilai uji statistik dan p-value\n",
    "t, p_value = stats.ttest_1samp(sample[\"SumbuKecil\"], mu)\n",
    "\n",
    "## Data statistik no_c\n",
    "# Rata-rata (x_bar)           = 54.8873\n",
    "# Standar deviasi (S)         = 3.2885\n",
    "# Daerah kritis R (t_alpha)   = 1.7291\n",
    "# Nilai uji statistik (t)     = 6.478169\n",
    "# Nilai p-value               = 3.3020185644245e-06\n",
    "\n",
    "# Print\n",
    "print(\"Rata-rata (x_bar)           = %.4f\" %(x_bar))\n",
    "print(\"Standar deviasi (S)         = %.4f\" %(std))\n",
    "print(\"Daerah kritis R (t_alpha)   = %.4f\" %(t_alpha))\n",
    "print(\"Nilai uji statistik (t)     = %f\" %(t))\n",
    "print(\"Nilai p-value               = \" + str(p_value))\n",
    "print(\"\")\n",
    "\n",
    "# Pengambilan keputusan \n",
    "reject = False\n",
    "# REJECT H0 jika nilai uji terletak di daerah kritis (disebelah kanan nilai kritis)\n",
    "if (t < -t_alpha or t > t_alpha):\n",
    "    reject = True\n",
    "    print(\"H0 REJECTED karena nilai uji terletak di daerah kritis\")\n",
    "else : \n",
    "    print(\"H0 NOT REJECTED karena nilai uji terletak di luar daerah kritis\")\n",
    "# REJECT H0 jika p-value lebih kecil dibanding tingkat signifikansi alpha\n",
    "if (p_value < alpha):\n",
    "    reject = True\n",
    "    print(\"H0 REJECTED karena p-value lebih kecil dibandingkan significance level alpha\")\n",
    "else : \n",
    "    print(\"H0 NOT REJECTED karena p-value lebih besar dibanding significance level alpha\")\n",
    "\n",
    "print(\"\")\n",
    "if (reject):\n",
    "    print (\"Disimpulkan bahwa H0 REJECTED dan H1 NOT REJECTED\")\n",
    "else : \n",
    "    print (\"Disimpulkan bahwa H0 NOT REJECTED dan H1 REJECTED\")"
   ]
  },
  {
   "cell_type": "markdown",
   "metadata": {},
   "source": [
    "***\n",
    "**1. Menentukan hipotesis nol**\n",
    "    $H_0 : \\mu_{20\\, baris\\, pertama\\, kolom\\, Sumbu\\, Kecil} = 50$\n",
    "\n",
    "**2. Menentukan hipotesis alternatif** \n",
    "    $H_1 : \\mu_{20\\, baris\\, pertama\\, kolom\\, Sumbu\\, Kecil} \\neq 50$\n",
    "\n",
    "**3. Menentukan tingkat signifikan** \n",
    "    $\\alpha = 0.05$\n",
    "   \n",
    "**4. Menentukan uji statistik yang sesuai dan menentukan daerah kritis**\n",
    "\n",
    "Uji statistik yang dipilih adalah ***T test***. Hal ini disebabkan:\n",
    "1. Jumlah sampel yang besar $(n \\leq 30)$\n",
    "2. Nilai rata-rata dan standar deviasi tidak diketahui\n",
    "3. Nilai variansi populasi tidak diketahui\n",
    "\n",
    "Daerah kritis untuk hipotesis alternatif $\\theta \\neq \\theta_{0}$ berada pada *left tail* dan *right tail* dari distribusi (bersifat *two sided*), sehingga dilakukan jenis test ***two - tailed***. \n",
    "\n",
    "Nilai *significance level* $\\alpha$ adalah 0.05, maka nilai *confidence level* adalah $1-0.05 = 0.95$. Penentuan titik kritis dipengaruhi oleh derajat kebebasan yang dihitung dengan $v = n - 1$ yang bernilai $20 - 1 = 19$ . Didapat nilai $t_{\\alpha}$ yang bersesuaian adalah **2.0930** .\n",
    "\n",
    "Maka, daerah kritis adalah $t_{\\alpha} < -2.0930$ dan $t_{\\alpha} > 2.0930$ \n",
    "\n",
    "**5. Menghitung nilai uji statistik dari data sampel serta nilai *p-value* yang sesuai**\n",
    "\n",
    "$t = \\Large\\frac{\\bar{x}-\\mu_0}{s / \\sqrt{n}}, \\, \\normalsize\\bar{x} = 54.8873, \\, s = 3.2885, \\, n = 20$\n",
    "\n",
    "$t = 6.478169$\n",
    "\n",
    "$p-value = 3.3020185644245e-06$\n",
    "\n",
    "**6. Mengambil keputusan**\n",
    "\n",
    "Berdasarkan data hasil perhitungan, diperoleh keputusan sebagai berikut:\n",
    "1. $H_0$ *REJECTED* karena nilai uji terletak di daerah kritis, yaitu $t > t_{\\alpha}$\n",
    "2. $H_0$ *REJECTED* karena *p-value* lebih kecil dibandingkan *significance level* $\\alpha$\n",
    "\n",
    "Maka, $H_0$ *REJECTED* dan $H_1$ *NOT REJECTED*\n",
    "\n",
    "Dapat disimpulkan bahwa : Nilai Rata-rata 20 baris pertama kolom Sumbu Kecil bukan 50 *BENAR*, atau **Nilai Rata-rata 20 baris pertama kolom Sumbu Kecil bukan 50**\n",
    "***"
   ]
  },
  {
   "cell_type": "code",
   "execution_count": 132,
   "metadata": {},
   "outputs": [
    {
     "data": {
      "text/markdown": [
       "#### Visualisasi Boxplot"
      ],
      "text/plain": [
       "<IPython.core.display.Markdown object>"
      ]
     },
     "metadata": {},
     "output_type": "display_data"
    },
    {
     "data": {
      "text/plain": [
       "<matplotlib.axes._subplots.AxesSubplot at 0x7feeeca0de50>"
      ]
     },
     "execution_count": 132,
     "metadata": {},
     "output_type": "execute_result"
    },
    {
     "data": {
      "image/png": "[encoded data removed]",
      "text/plain": [
       "<Figure size 432x288 with 1 Axes>"
      ]
     },
     "metadata": {
      "needs_background": "light"
     },
     "output_type": "display_data"
    }
   ],
   "source": [
    "markdown(\"#### Visualisasi Boxplot\")\n",
    "sample.boxplot(\"SumbuKecil\")"
   ]
  },
  {
   "cell_type": "markdown",
   "metadata": {},
   "source": [
    "### d. Proporsi nilai Diameter yang lebih dari 85, adalah tidak sama dengan 15%"
   ]
  },
  {
   "cell_type": "code",
   "execution_count": 133,
   "metadata": {},
   "outputs": [
    {
     "name": "stdout",
     "output_type": "stream",
     "text": [
      "Jumlah data (x)             = 97\n",
      "Proportion (p0)             = 0.15\n",
      "Daerah kritis R (z_alpha)   = 1.96\n",
      "Nilai uji statistik (z)     = 2.755387\n",
      "Nilai p-value               = 0.0058622771684096655\n",
      "\n",
      "H0 REJECTED karena p-value lebih kecil dibandingkan significance level alpha\n",
      "\n",
      "Disimpulkan bahwa H0 REJECTED dan H1 NOT REJECTED\n"
     ]
    }
   ],
   "source": [
    "# Nilai statistik\n",
    "n = new_df.shape[0] #500\n",
    "x = new_df.loc[df[\"Diameter\"] > 85].count()[\"Diameter\"]\n",
    "p0 = 0.15\n",
    "alpha = 0.05\n",
    "\n",
    "# Daerah kritis\n",
    "z_alpha = stats.norm.ppf(1-alpha/2)\n",
    "\n",
    "# Nilai uji\n",
    "z = (x-n*p0)/math.sqrt(n*p0*(1-p0))\n",
    "#print(\"Nilai uji : \",z)\n",
    "\n",
    "# P-value\n",
    "p_value = 2*(stats.norm.sf(z))\n",
    "#print(\"P-value   : \", p_value)\n",
    "\n",
    "## Data statistik no_d\n",
    "# Jumlah data (x)             = 97\n",
    "# Proportion (p0)             = 0.15\n",
    "# Daerah kritis R (z_alpha)   = 1.96\n",
    "# Nilai uji statistik (z)     = 2.755387\n",
    "# Nilai p-value               = 0.0058622771684096655\n",
    "\n",
    "# Print\n",
    "print(\"Jumlah data (x)             = %d\" %(x))\n",
    "print(\"Proportion (p0)             = %.2f\" %(p0))\n",
    "print(\"Daerah kritis R (z_alpha)   = %.2f\" %(z_alpha))\n",
    "print(\"Nilai uji statistik (z)     = %f\" %(z))\n",
    "print(\"Nilai p-value               = \" + str(p_value))\n",
    "print(\"\")\n",
    "\n",
    "# Pengambilan keputusan \n",
    "reject = False\n",
    "if (p_value <= alpha):\n",
    "    reject = True\n",
    "    print(\"H0 REJECTED karena p-value lebih kecil dibandingkan significance level alpha\")\n",
    "else : \n",
    "    print(\"H0 NOT REJECTED karena p-value lebih besar dibanding significance level alpha\")\n",
    "\n",
    "print(\"\")\n",
    "if (reject):\n",
    "    print (\"Disimpulkan bahwa H0 REJECTED dan H1 NOT REJECTED\")\n",
    "else : \n",
    "    print (\"Disimpulkan bahwa H0 NOT REJECTED dan H1 REJECTED\")"
   ]
  },
  {
   "cell_type": "markdown",
   "metadata": {},
   "source": [
    "***\n",
    "**1. Menentukan hipotesis nol**\n",
    "    $H_0 : p = 15$\n",
    "\n",
    "**2. Menentukan hipotesis alternatif** \n",
    "    $H_1 : p \\neq 15$\n",
    "\n",
    "**3. Menentukan tingkat signifikan** \n",
    "    $\\alpha = 0.05$\n",
    "   \n",
    "**4. Menentukan uji statistik yang sesuai dan menentukan daerah kritis**\n",
    "\n",
    "Uji statistik yang dipilih adalah ***distribusi binomial dengan pendekatan distribusi normal***\n",
    "\n",
    "Daerah kritis untuk hipotesis alternatif $\\theta \\neq \\theta_{0}$ berada pada *left tail* dan *right tail* dari distribusi (bersifat *two sided*), sehingga dilakukan jenis test ***two - tailed***. \n",
    "\n",
    "Nilai *significance level* $\\alpha$ adalah 0.05, maka nilai *confidence level* adalah $1-0.05 = 0.95$. Namun, karena distribusi bersifat *two sided* , maka digunakan nilai $\\frac{\\alpha}{2} = 0.025$. Untuk mendapat nilai demikian, nilai kritis $z_\\frac{\\alpha}{2}$ yang bersesuaian adalah **1.9600** .\n",
    "\n",
    "Maka, daerah kritis adalah $z_\\frac{\\alpha}{2} < -1.9600$ dan $z_\\frac{\\alpha}{2} > 1.9600$ \n",
    "\n",
    "**5. Menghitung nilai uji statistik dari data sampel serta nilai *p-value* yang sesuai**\n",
    "\n",
    "$z = \\Large\\frac{x-np_0}{\\sqrt{n}{p_0}{(1-p_0)}}, \\, \\normalsize x = 97, \\, n = 500, \\, p_0 = 0.15$\n",
    "\n",
    "$z = 2.755387$\n",
    "\n",
    "$p-value = 0.0058622771684096655$\n",
    "\n",
    "**6. Mengambil keputusan**\n",
    "\n",
    "Berdasarkan data hasil perhitungan, diperoleh keputusan sebagai berikut:\n",
    "$H_0$ *REJECTED* karena *p-value* lebih kecil dibandingkan *significance level* $\\alpha$\n",
    "\n",
    "Maka, $H_0$ *REJECTED* dan $H_1$ *NOT REJECTED*\n",
    "\n",
    "Dapat disimpulkan bahwa : Proporsi nilai Diameter yang lebih dari 85, adalah  sama dengan 15% *TIDAK BENAR*, atau **Proporsi nilai Diameter yang lebih dari 85 tidak sama dengan 15%**\n",
    "***"
   ]
  },
  {
   "cell_type": "code",
   "execution_count": 134,
   "metadata": {},
   "outputs": [
    {
     "data": {
      "text/markdown": [
       "#### Visualisasi Boxplot"
      ],
      "text/plain": [
       "<IPython.core.display.Markdown object>"
      ]
     },
     "metadata": {},
     "output_type": "display_data"
    },
    {
     "data": {
      "text/plain": [
       "<matplotlib.axes._subplots.AxesSubplot at 0x7feeec6a6370>"
      ]
     },
     "execution_count": 134,
     "metadata": {},
     "output_type": "execute_result"
    },
    {
     "data": {
      "image/png": "[encoded data removed]",
      "text/plain": [
       "<Figure size 432x288 with 1 Axes>"
      ]
     },
     "metadata": {
      "needs_background": "light"
     },
     "output_type": "display_data"
    }
   ],
   "source": [
    "markdown(\"#### Visualisasi Boxplot\")\n",
    "new_df.loc[df[\"Diameter\"] > 85].boxplot(\"Diameter\")"
   ]
  },
  {
   "cell_type": "markdown",
   "metadata": {},
   "source": [
    "### e. Proporsi nilai Keliling yang kurang dari 100, adalah kurang dari 5%"
   ]
  },
  {
   "cell_type": "code",
   "execution_count": 135,
   "metadata": {},
   "outputs": [
    {
     "name": "stdout",
     "output_type": "stream",
     "text": [
      "Jumlah data (x)             = 0\n",
      "Proportion (p0)             = 0.05\n",
      "Nilai kritis (z_alpha)      = -1.6449\n",
      "Nilai uji statistik (z)     = -5.129892\n",
      "Nilai p-value               = 1.4495441414387716e-07\n",
      "\n",
      "H0 REJECTED karena p-value lebih kecil dibandingkan significance level alpha\n",
      "\n",
      "Disimpulkan bahwa H0 REJECTED dan H1 NOT REJECTED\n"
     ]
    }
   ],
   "source": [
    "# HIPOTESIS\n",
    "#print(\"1. H0 : p = 0.05\")\n",
    "#print(\"2. H1 : p < 0.05\")\n",
    "# Nilai statistik\n",
    "n = new_df.shape[0] #500\n",
    "x = new_df.loc[df[\"Keliling\"] < 100].count()[\"Keliling\"]\n",
    "p0 = 0.05\n",
    "alpha = 0.05\n",
    "\n",
    "# Daerah kritis\n",
    "z_alpha = -stats.norm.ppf(1-alpha)\n",
    "#print(\"Nilai kritis : \", z_alpha)\n",
    "#print(\"Daerah kritis : z < %.4f\" %(z_alpha))\n",
    "\n",
    "# Nilai uji\n",
    "z = (x-n*p0)/math.sqrt(n*p0*(1-p0))\n",
    "#print(\"Nilai uji : \",z)\n",
    "\n",
    "# P-value\n",
    "p_value = (stats.norm.cdf(z))\n",
    "#print(\"P-value   : \", p_value)\n",
    "\n",
    "## Data statistik no_e\n",
    "#Jumlah data (x)             = 0\n",
    "#Proportion (p0)             = 0.05\n",
    "#Nilai kritis (z_alpha)      = -1.6449\n",
    "#Nilai uji statistik (z)     = -5.129892\n",
    "#Nilai p-value               = 1.4495441414387716e-07\n",
    "\n",
    "# Print\n",
    "print(\"Jumlah data (x)             = %d\" %(x))\n",
    "print(\"Proportion (p0)             = %.2f\" %(p0))\n",
    "print(\"Nilai kritis (z_alpha)      = %.4f\" %(z_alpha))\n",
    "print(\"Nilai uji statistik (z)     = %f\" %(z))\n",
    "#print(\"Nilai p-value               = %f\" %(p_value))\n",
    "print(\"Nilai p-value               = \" + str(p_value))\n",
    "print(\"\")\n",
    "\n",
    "# Pengambilan keputusan \n",
    "reject = False\n",
    "if (p_value <= alpha):\n",
    "    reject = True\n",
    "    print(\"H0 REJECTED karena p-value lebih kecil dibandingkan significance level alpha\")\n",
    "else : \n",
    "    print(\"H0 NOT REJECTED karena p-value lebih besar dibanding significance level alpha\")\n",
    "\n",
    "print(\"\")\n",
    "if (reject):\n",
    "    print (\"Disimpulkan bahwa H0 REJECTED dan H1 NOT REJECTED\")\n",
    "else : \n",
    "    print (\"Disimpulkan bahwa H0 NOT REJECTED dan H1 REJECTED\")"
   ]
  },
  {
   "cell_type": "markdown",
   "metadata": {},
   "source": [
    "***\n",
    "**1. Menentukan hipotesis nol**\n",
    "    $H_0 : p = 0.05$\n",
    "\n",
    "**2. Menentukan hipotesis alternatif** \n",
    "    $H_1 : p < 0.05$\n",
    "\n",
    "**3. Menentukan tingkat signifikan** \n",
    "    $\\alpha = 0.05$\n",
    "   \n",
    "**4. Menentukan uji statistik yang sesuai dan menentukan daerah kritis**\n",
    "\n",
    "Uji statistik yang dipilih adalah ***distribusi binomial dengan pendekatan distribusi normal***\n",
    "\n",
    "Daerah kritis untuk hipotesis alternatif $\\theta < \\theta_{0}$ berada pada *left tail* dari distribusi (bersifat *one sided*), sehingga dilakukan jenis test ***one - tailed***. \n",
    "\n",
    "Nilai *significance level* $\\alpha$ adalah 0.05, maka nilai *confidence level* adalah $1-0.05 = 0.95$. Nilai $z_{\\alpha}$ yang bersesuaian adalah **1.645** .\n",
    "\n",
    "Karena *left tail*, daerah kritis adalah $z_{\\alpha}$ < -1.645$ \n",
    "\n",
    "**5. Menghitung nilai uji statistik dari data sampel serta nilai *p-value* yang sesuai**\n",
    "\n",
    "$z = \\Large\\frac{x-np_0}{\\sqrt{n}{p_0}{(1-p_0)}}, \\, \\normalsize x = 0, \\, n = 500, \\, p_0 = 0.05$\n",
    "\n",
    "$z = -5.129892$\n",
    "\n",
    "$p-value = 1.4495441414387716e-07$\n",
    "\n",
    "**6. Mengambil keputusan**\n",
    "\n",
    "Berdasarkan data hasil perhitungan, diperoleh keputusan sebagai berikut:\n",
    "$H_0$ *REJECTED* karena *p-value* lebih kecil dibandingkan *significance level* $\\alpha$\n",
    "\n",
    "Maka, $H_0$ *REJECTED* dan $H_1$ *NOT REJECTED*\n",
    "\n",
    "Dapat disimpulkan bahwa : Proporsi nilai Keliling yang kurang dari 100 adalah 5% *TIDAK BENAR*, atau **Proporsi nilai Keliling yang kurang dari 100, adalah kurang dari 5%**\n",
    "***"
   ]
  },
  {
   "cell_type": "code",
   "execution_count": 136,
   "metadata": {},
   "outputs": [
    {
     "data": {
      "text/markdown": [
       "#### Visualisasi Boxplot"
      ],
      "text/plain": [
       "<IPython.core.display.Markdown object>"
      ]
     },
     "metadata": {},
     "output_type": "display_data"
    },
    {
     "data": {
      "text/plain": [
       "<matplotlib.axes._subplots.AxesSubplot at 0x7feeea4056a0>"
      ]
     },
     "execution_count": 136,
     "metadata": {},
     "output_type": "execute_result"
    },
    {
     "data": {
      "image/png": "[encoded data removed]",
      "text/plain": [
       "<Figure size 432x288 with 1 Axes>"
      ]
     },
     "metadata": {
      "needs_background": "light"
     },
     "output_type": "display_data"
    }
   ],
   "source": [
    "markdown(\"#### Visualisasi Boxplot\")\n",
    "new_df.loc[df[\"Keliling\"] < 100].boxplot(\"Keliling\")"
   ]
  },
  {
   "cell_type": "markdown",
   "metadata": {},
   "source": [
    "## 5. Tes Hipotesis 2 Sampel\n",
    "Melakukan test hipotesis 2 sampel, dengan menuliskan 6 langkah testing dan menampilkan juga boxplotnya untuk kolom/bagian yang bersesuaian"
   ]
  },
  {
   "cell_type": "markdown",
   "metadata": {},
   "source": [
    "### a. Data kolom AreaBulatan dibagi 2 sama rata: bagian awal dan bagian akhir kolom. Benarkah rata-rata kedua bagian tersebut sama?"
   ]
  },
  {
   "cell_type": "code",
   "execution_count": 176,
   "metadata": {},
   "outputs": [
    {
     "name": "stdout",
     "output_type": "stream",
     "text": [
      "alpha   = 0.050000\n",
      "Critical region : z < -1.964739 or z > 1.964739\n",
      "z       = 17.013037\n",
      "p-value = 0.000000\n",
      "6. Keputusan\n",
      "H0 REJECTED karena nilai z berada dalam batasan daerah kritis\n",
      "H0 REJECTED karena p-value bernilai lebih kecil dari tingkat signifikasinya\n",
      "\n",
      "Disimpulkan bahwa H0 REJECTED dan H1 NOT REJECTED\n",
      "Rata-rata bagian awal AreaBulatan != Rata-rata bagian akhir AreaBulatan\n"
     ]
    },
    {
     "data": {
      "image/png": "[encoded data removed]",
      "text/plain": [
       "<Figure size 432x288 with 1 Axes>"
      ]
     },
     "metadata": {
      "needs_background": "light"
     },
     "output_type": "display_data"
    }
   ],
   "source": [
    "\n",
    "\n",
    "sum_column = new_df['AreaBulatan'].count()\n",
    "half_sum = sum_column/2\n",
    "first_half = new_df['AreaBulatan'].loc[:half_sum-1]\n",
    "second_half = new_df['AreaBulatan'].loc[half_sum:]\n",
    "\n",
    "mean_first_half = first_half.mean()\n",
    "mean_second_half = second_half.mean()\n",
    "\n",
    "std_first_half = first_half.std()\n",
    "std_second_half = second_half.std()\n",
    "\n",
    "#1. Hipotesis 0 mean1-mean2 = 0\n",
    "#print(\"1. Hipotesis 0\")\n",
    "#print(\"H0 : mean1-mean2 = 0\")\n",
    "#print(\"\")\n",
    "#2. Hipotesis 1 mean1-mean2 != 0\n",
    "#print(\"2. Hipotesis 1\")\n",
    "#print(\"H1 : mean1-mean2 != 0\")\n",
    "#print(\"\")\n",
    "d0 = 0\n",
    "\n",
    "#3. Tingkat signifikan alpha\n",
    "#print(\"3. Tingkat signifikan alpha\")\n",
    "alpha = 0.05\n",
    "print(\"alpha   = %3f\" %(alpha))\n",
    "#print(\"\")\n",
    "\n",
    "#4. Uji Statistik dan Daerah Kritis\n",
    "#print(\"4. Uji Statistik dan Daerah Kritis\")\n",
    "z = (mean_first_half - mean_second_half - d0)/(math.sqrt(((std_first_half**2)/half_sum)+(std_second_half**2)/half_sum))\n",
    "v = half_sum+half_sum-2\n",
    "critical_reg = stats.t.ppf(1-alpha/2,v)\n",
    "print(\"Critical region : z < %f or z > %f\" %(-critical_reg,critical_reg))\n",
    "#print(\"\")\n",
    "\n",
    "#5. Perhitungan Nilai Uji Statistik dan p-value\n",
    "#print(\"5. Perhitungan Nilai Uji Statistik dan p-value\")\n",
    "pval = 1- stats.t.cdf(z,v)\n",
    "print(\"z       = %f\" %(z))\n",
    "print(\"p-value = %f\" %(pval))\n",
    "#print(\"\")\n",
    "\n",
    "#6. Keputusan\n",
    "print(\"6. Keputusan\")\n",
    "reject = False\n",
    "if (z < -critical_reg) or (z > critical_reg):\n",
    "    reject = True\n",
    "    print(\"H0 REJECTED karena nilai z berada dalam batasan daerah kritis\")\n",
    "else:\n",
    "    print(\"H0 NOT REJECTED karena nilai z berada di luar batasan daerah kritis\")\n",
    "    \n",
    "if (pval > alpha):\n",
    "    print(\"H0 NOT REJECTED karena p-value bernilai lebih besar dari tingkat signifikasinya\")\n",
    "else:\n",
    "    reject = True\n",
    "    print(\"H0 REJECTED karena p-value bernilai lebih kecil dari tingkat signifikasinya\")\n",
    "print(\"\")\n",
    "\n",
    "#Kesimpulan\n",
    "#print(\"KESIMPULAN\")\n",
    "if (reject == True):\n",
    "    print (\"Disimpulkan bahwa H0 REJECTED dan H1 NOT REJECTED\")\n",
    "    print (\"Rata-rata bagian awal AreaBulatan != Rata-rata bagian akhir AreaBulatan\")\n",
    "else : \n",
    "    print (\"Disimpulkan bahwa H0 NOT REJECTED dan H1 REJECTED\")\n",
    "    print (\"Rata-rata bagian awal AreaBulatan == Rata-rata bagian akhir AreaBulatan\")\n",
    "    \n",
    "plt.boxplot([first_half, second_half])\n",
    "plt.xticks(ticks=[1,2],labels=[\"First Half\",\"Second Half\"])\n",
    "plt.title(\"Area Bulatan\")\n",
    "plt.tight_layout()\n",
    "plt.show()"
   ]
  },
  {
   "cell_type": "markdown",
   "metadata": {},
   "source": [
    "***\n",
    "**1. Menentukan hipotesis nol**\n",
    "    $H_0 : \\mu_{awal} = \\mu_{akhir}$\n",
    "\n",
    "**2. Menentukan hipotesis alternatif** \n",
    "    $H_1 : \\mu_{akhir} \\ne \\mu_{akhir}$\n",
    "\n",
    "**3. Menentukan tingkat signifikan** \n",
    "    $\\alpha = 0.05$\n",
    "   \n",
    "**4. Menentukan uji statistik yang sesuai dan menentukan daerah kritis**\n",
    "\n",
    "Uji statistik yang dipilih adalah uji statistik distribusi normal untuk 2 sampel.\n",
    "\n",
    "Daerah kritis untuk hipotesis alternatif adalah $z < -1.964739$ or $z > 1.964739$\n",
    "\n",
    "**5. Menghitung nilai uji statistik dari data sampel serta nilai *p-value* yang sesuai**\n",
    "\n",
    "$z = \\Large\\frac{\\bar{x}_{1}-\\bar{x}_{2}-d0}{\\sqrt{pxqx(\\frac{\\sigma_{1}^2}{n_{1}}+\\frac{\\sigma_{2}^2}{n_{2}})}}$\n",
    "\n",
    "$z = 17.013037$\n",
    "\n",
    "$p-value = 0.000000$\n",
    "\n",
    "**6. Mengambil keputusan**\n",
    "\n",
    "Berdasarkan data hasil perhitungan, diperoleh keputusan sebagai berikut:\n",
    "1. $H_0$ *REJECTED* karena nilai z berada dalam batasan daerah kritis\n",
    "2. $H_0$ *REJECTED* karena *p-value* lebih kecil dibandingkan *significance level* $\\alpha$\n",
    "\n",
    "Maka, $H_0$ *REJECTED* dan $H_1$ *NOT REJECTED*\n",
    "\n",
    "Dapat disimpulkan bahwa : **Rata-rata bagian awal AreaBulatan != Rata-rata bagian akhir AreaBulatan,** ***SALAH***\n",
    "***"
   ]
  },
  {
   "cell_type": "markdown",
   "metadata": {},
   "source": [
    "### b. Data kolom Kadar Air dibagi 2 sama rata: bagian awal dan bagian akhir kolom. Benarkah rata-rata bagian awal lebih besar dari pada bagian akhir sebesar 0.2?"
   ]
  },
  {
   "cell_type": "code",
   "execution_count": 138,
   "metadata": {},
   "outputs": [
    {
     "data": {
      "text/markdown": [
       "### b. Data kolom Kadar Air dibagi 2 sama rata: bagian awal dan bagian akhir kolom. Benarkah rata-rata bagian awal lebih besar dari pada bagian akhir sebesar 0.2?"
      ],
      "text/plain": [
       "<IPython.core.display.Markdown object>"
      ]
     },
     "metadata": {},
     "output_type": "display_data"
    },
    {
     "name": "stdout",
     "output_type": "stream",
     "text": [
      "alpha   = 0.050000\n",
      "Critical region : z < -1.964739 or z > 1.964739\n",
      "z       = -26.903444\n",
      "p-value = 1.000000\n",
      "6. Keputusan\n",
      "H0 REJECTED karena nilai z berada dalam batasan daerah kritis\n",
      "H0 NOT REJECTED karena p-value bernilai lebih besar dari tingkat signifikasinya\n",
      "\n",
      "Disimpulkan bahwa H0 REJECTED dan H1 NOT REJECTED\n",
      "Rata-rata bagian awal tidak lebih besar dari Rata-rata bagian akhir sebesar 0.2\n"
     ]
    },
    {
     "data": {
      "image/png": "[encoded data removed]",
      "text/plain": [
       "<Figure size 432x288 with 1 Axes>"
      ]
     },
     "metadata": {
      "needs_background": "light"
     },
     "output_type": "display_data"
    }
   ],
   "source": [
    "sum_column = new_df['KadarAir'].count()\n",
    "half_sum = sum_column/2\n",
    "first_half = new_df['KadarAir'].loc[:half_sum-1]\n",
    "second_half = new_df['KadarAir'].loc[half_sum:]\n",
    "\n",
    "mean_first_half = first_half.mean()\n",
    "mean_second_half = second_half.mean()\n",
    "\n",
    "std_first_half = first_half.std()\n",
    "std_second_half = second_half.std()\n",
    "\n",
    "#1. Hipotesis 0 mean1-mean2=0.2\n",
    "#print(\"1. Hipotesis 0 mean1-mean2=0.2\")\n",
    "#print(\"H0 : mean1-mean2 = 0.2\")\n",
    "#print(\"\")\n",
    "#2. Hipotesis 1 mean1-mean2!=0.2\n",
    "#print(\"2. Hipotesis 1 mean1-mean2!=0.2\")\n",
    "#print(\"H1 : mean1-mean2 != 0.2\")\n",
    "d0 = 0.2\n",
    "#print(\"\")\n",
    "\n",
    "#3. Tingkat signifikan alpha\n",
    "#print(\"3. Tingkat signifikan alpha\")\n",
    "alpha = 0.05\n",
    "print(\"alpha   = %3f\" %(alpha))\n",
    "#print(\"\")\n",
    "\n",
    "#4. Uji Statistik dan Daerah Kritis\n",
    "#print(\"4. Uji Statistik dan Daerah Kritis\")\n",
    "z = (mean_first_half - mean_second_half-d0)/(math.sqrt(((std_first_half**2)/half_sum)+(std_second_half**2)/half_sum))\n",
    "v = half_sum+half_sum-2\n",
    "critical_reg = stats.t.ppf(1-alpha/2,v)\n",
    "print(\"Critical region : z < %f or z > %f\" %(-critical_reg,critical_reg))\n",
    "#print(\"\")\n",
    "\n",
    "#5. Perhitungan Nilai Uji Statistik dan p-value\n",
    "#print(\"5. Perhitungan Nilai Uji Statistik dan p-value\")\n",
    "pval = 1- stats.t.cdf(z,v)\n",
    "print(\"z       = %f\" %(z))\n",
    "print(\"p-value = %f\" %(pval))\n",
    "#print(\"\")\n",
    "\n",
    "#6. Keputusan\n",
    "print(\"6. Keputusan\")\n",
    "reject = False\n",
    "if (z < -critical_reg) or (z > critical_reg):\n",
    "    reject = True\n",
    "    print(\"H0 REJECTED karena nilai z berada dalam batasan daerah kritis\")\n",
    "else:\n",
    "    print(\"H0 NOT REJECTED karena nilai z berada di luar batasan daerah kritis\")\n",
    "    \n",
    "if (pval > alpha):\n",
    "    print(\"H0 NOT REJECTED karena p-value bernilai lebih besar dari tingkat signifikasinya\")\n",
    "else:\n",
    "    reject = True\n",
    "    print(\"H0 REJECTED karena p-value bernilai lebih kecil dari tingkat signifikasinya\")\n",
    "print(\"\")\n",
    "    \n",
    "#Kesimpulan\n",
    "#print(\"KESIMPULAN\")\n",
    "if (reject == True):\n",
    "    print (\"Disimpulkan bahwa H0 REJECTED dan H1 NOT REJECTED\")\n",
    "    print (\"Rata-rata bagian awal tidak lebih besar dari Rata-rata bagian akhir sebesar 0.2\")\n",
    "else : \n",
    "    print (\"Disimpulkan bahwa H0 NOT REJECTED dan H1 REJECTED\")\n",
    "    print (\"Rata-rata bagian awal lebih besar dari Rata-rata bagian akhir sebesar 0.2\")\n",
    "\n",
    "plt.boxplot([first_half, second_half])\n",
    "plt.xticks(ticks=[1,2],labels=[\"First Half\",\"Second Half\"])\n",
    "plt.title(\"Kadar Air\")\n",
    "plt.tight_layout()\n",
    "plt.show()"
   ]
  },
  {
   "cell_type": "markdown",
   "metadata": {},
   "source": [
    "***\n",
    "**1. Menentukan hipotesis nol**\n",
    "    $H_0 : \\mu_{awal} = \\mu_{akhir}$\n",
    "\n",
    "**2. Menentukan hipotesis alternatif** \n",
    "    $H_1 : \\mu_{akhir} \\ne \\mu_{akhir}$\n",
    "\n",
    "**3. Menentukan tingkat signifikan** \n",
    "    $\\alpha = 0.05$\n",
    "   \n",
    "**4. Menentukan uji statistik yang sesuai dan menentukan daerah kritis**\n",
    "\n",
    "Uji statistik yang dipilih adalah uji statistik distribusi normal untuk 2 sampel.\n",
    "\n",
    "Daerah kritis untuk hipotesis alternatif adalah $z < -1.964739$ or $z > 1.964739$\n",
    "\n",
    "**5. Menghitung nilai uji statistik dari data sampel serta nilai *p-value* yang sesuai**\n",
    "\n",
    "$z = \\Large\\frac{\\bar{x}_{1}-\\bar{x}_{2}-d0}{\\sqrt{pxqx(\\frac{\\sigma_{1}^2}{n_{1}}+\\frac{\\sigma_{2}^2}{n_{2}})}}$\n",
    "\n",
    "$z = -26.903444$\n",
    "\n",
    "$p-value = 1$\n",
    "\n",
    "**6. Mengambil keputusan**\n",
    "\n",
    "Berdasarkan data hasil perhitungan, diperoleh keputusan sebagai berikut:\n",
    "1. $H_0$ *REJECTED* karena nilai z berada dalam batasan daerah kritis\n",
    "2. $H_0$ *NOT REJECTED* karena *p-value* lebih besar dibandingkan *significance level* $\\alpha$\n",
    "\n",
    "Maka, $H_0$ *REJECTED* dan $H_1$ *NOT REJECTED*\n",
    "\n",
    "Dapat disimpulkan bahwa : **Rata-rata bagian awal tidak lebih besar dari Rata-rata bagian akhir sebesar 0.2,** ***SALAH***\n",
    "***"
   ]
  },
  {
   "cell_type": "markdown",
   "metadata": {},
   "source": [
    "### c. Rata-rata 20 baris pertama kolom Bulatan sama dengan 20 baris terakhirnya?"
   ]
  },
  {
   "cell_type": "code",
   "execution_count": 139,
   "metadata": {},
   "outputs": [
    {
     "data": {
      "text/markdown": [
       "#### c. Rata-rata 20 baris pertama kolom Bulatan sama dengan 20 baris terakhirnya?"
      ],
      "text/plain": [
       "<IPython.core.display.Markdown object>"
      ]
     },
     "metadata": {},
     "output_type": "display_data"
    },
    {
     "name": "stdout",
     "output_type": "stream",
     "text": [
      "alpha   = 0.050000\n",
      "Critical region : z < -2.024394 or z > 2.024394\n",
      "z       = -3.379227\n",
      "p-value = 0.999154\n",
      "6. Keputusan\n",
      "H0 REJECTED karena nilai z berada dalam batasan daerah kritis\n",
      "H0 NOT REJECTED karena p-value bernilai lebih besar dari tingkat signifikasinya\n",
      "\n",
      "Disimpulkan bahwa H0 REJECTED dan H1 NOT REJECTED\n",
      "Rata-rata 20 baris pertama Bulatan != Rata-rata 20 baris terakhir Bulatan\n"
     ]
    },
    {
     "data": {
      "image/png": "[encoded data removed]",
      "text/plain": [
       "<Figure size 432x288 with 1 Axes>"
      ]
     },
     "metadata": {
      "needs_background": "light"
     },
     "output_type": "display_data"
    }
   ],
   "source": [
    "#Pengambilan sampel data\n",
    "sum_column = new_df['Bulatan'].count()\n",
    "n = 20\n",
    "first = new_df['Bulatan'].head(20)\n",
    "second = new_df['Bulatan'].tail(20)\n",
    "\n",
    "mean_first = first.mean()\n",
    "mean_second = second.mean()\n",
    "\n",
    "std_first = first.std()\n",
    "std_second = second.std()\n",
    "\n",
    "#1. Hipotesis 0 mean1-mean2 = 0\n",
    "#print(\"1. Hipotesis 0\")\n",
    "#print(\"H0 : mean1-mean2 = 0\")\n",
    "#print(\"\")\n",
    "#2. Hipotesis 1 mean1-mean2 != 0\n",
    "#print(\"2. Hipotesis 1\")\n",
    "#print(\"H1 : mean1-mean2 != 0\")\n",
    "#print(\"\")\n",
    "d0 = 0\n",
    "\n",
    "#3. Tingkat signifikan alpha\n",
    "#print(\"3. Tingkat signifikan alpha\")\n",
    "alpha = 0.05\n",
    "print(\"alpha   = %3f\" %(alpha))\n",
    "#print(\"\")\n",
    "\n",
    "#4. Uji Statistik dan Daerah Kritis\n",
    "#print(\"4. Uji Statistik dan Daerah Kritis\")\n",
    "z = (mean_first - mean_second-d0)/(math.sqrt(((std_first**2)/n)+(std_second**2)/n))\n",
    "v = n+n-2\n",
    "critical_reg = stats.t.ppf(1-alpha/2,v)\n",
    "print(\"Critical region : z < %f or z > %f\" %(-critical_reg,critical_reg))\n",
    "#print(\"\")\n",
    "\n",
    "#5. Perhitungan Nilai Uji Statistik dan p-value\n",
    "#print(\"5. Perhitungan Nilai Uji Statistik dan p-value\")\n",
    "pval = 1- stats.t.cdf(z,v)\n",
    "print(\"z       = %f\" %(z))\n",
    "print(\"p-value = %f\" %(pval))\n",
    "#print(\"\")\n",
    "\n",
    "#6. Keputusan\n",
    "print(\"6. Keputusan\")\n",
    "reject = False\n",
    "if (z < -critical_reg) or (z > critical_reg):\n",
    "    reject = True\n",
    "    print(\"H0 REJECTED karena nilai z berada dalam batasan daerah kritis\")\n",
    "else:\n",
    "    print(\"H0 NOT REJECTED karena nilai z berada di luar batasan daerah kritis\")\n",
    "    \n",
    "if (pval > alpha):\n",
    "    print(\"H0 NOT REJECTED karena p-value bernilai lebih besar dari tingkat signifikasinya\")\n",
    "else:\n",
    "    reject = True\n",
    "    print(\"H0 REJECTED karena p-value bernilai lebih kecil dari tingkat signifikasinya\")\n",
    "print(\"\")\n",
    "\n",
    "#Kesimpulan\n",
    "#print(\"KESIMPULAN\")\n",
    "if (reject == True):\n",
    "    print (\"Disimpulkan bahwa H0 REJECTED dan H1 NOT REJECTED\")\n",
    "    print (\"Rata-rata 20 baris pertama Bulatan != Rata-rata 20 baris terakhir Bulatan\")\n",
    "else : \n",
    "    print (\"Disimpulkan bahwa H0 NOT REJECTED dan H1 REJECTED\")\n",
    "    print (\"Rata-rata 20 baris pertama Bulatan == Rata-rata 20 baris terakhir Bulatan\")\n",
    "\n",
    "plt.boxplot([first, second])\n",
    "plt.xticks(ticks=[1,2],labels=[\"First 20\",\"Last 20\"])\n",
    "plt.title(\"Bulatan\")\n",
    "plt.tight_layout()\n",
    "plt.show()\n"
   ]
  },
  {
   "cell_type": "markdown",
   "metadata": {},
   "source": [
    "***\n",
    "**1. Menentukan hipotesis nol**\n",
    "    $H_0 : \\mu_{awal} = \\mu_{akhir}$\n",
    "\n",
    "**2. Menentukan hipotesis alternatif** \n",
    "    $H_1 : \\mu_{akhir} > \\mu_{akhir}$\n",
    "\n",
    "**3. Menentukan tingkat signifikan** \n",
    "    $\\alpha = 0.05$\n",
    "   \n",
    "**4. Menentukan uji statistik yang sesuai dan menentukan daerah kritis**\n",
    "\n",
    "Uji statistik yang dipilih adalah uji statistik distribusi normal untuk 2 sampel.\n",
    "\n",
    "Daerah kritis untuk hipotesis alternatif adalah $z < -2.024394$ or $z > 2.024394$\n",
    "\n",
    "**5. Menghitung nilai uji statistik dari data sampel serta nilai *p-value* yang sesuai**\n",
    "\n",
    "$z = \\Large\\frac{\\bar{x}_{1}-\\bar{x}_{2}-d0}{\\sqrt{pxqx(\\frac{\\sigma_{1}^2}{n_{1}}+\\frac{\\sigma_{2}^2}{n_{2}})}}$\n",
    "\n",
    "$z = -3.379227$\n",
    "\n",
    "$p-value = 0.999154$\n",
    "\n",
    "**6. Mengambil keputusan**\n",
    "\n",
    "Berdasarkan data hasil perhitungan, diperoleh keputusan sebagai berikut:\n",
    "1. $H_0$ *REJECTED* karena nilai z berada dalam batasan daerah kritis\n",
    "2. $H_0$ *NOT REJECTED* karena *p-value* lebih besar dibandingkan *significance level* $\\alpha$\n",
    "\n",
    "Maka, $H_0$ *REJECTED* dan $H_1$ *NOT REJECTED*\n",
    "\n",
    "Dapat disimpulkan bahwa : **Rata-rata 20 baris pertama Bulatan != Rata-rata 20 baris terakhir Bulatan,** ***SALAH***\n",
    "***"
   ]
  },
  {
   "cell_type": "markdown",
   "metadata": {},
   "source": [
    "### d.  Proporsi nilai bagian awal Ransum yang lebih dari 2, adalah lebih besar daripada, proporsi nilai yang sama di bagian akhir Ransum?"
   ]
  },
  {
   "cell_type": "code",
   "execution_count": 154,
   "metadata": {
    "scrolled": false
   },
   "outputs": [
    {
     "name": "stdout",
     "output_type": "stream",
     "text": [
      "alpha   = 0.050000\n",
      "Critical region : z > 1.644854\n",
      "z       = 13.397486\n",
      "p-value = 0.000000\n",
      "H0 REJECTED karena nilai z berada dalam batasan daerah kritis\n",
      "H0 REJECTED karena p-value bernilai lebih kecil dari tingkat signifikasinya\n",
      "\n",
      "Disimpulkan bahwa H0 REJECTED dan H1 NOT REJECTED\n",
      "Proporsi bagian awal Ransum > Proporsi bagian akhir Ransum untuk nilai lebih dari 2\n"
     ]
    },
    {
     "data": {
      "image/png": "[encoded data removed]",
      "text/plain": [
       "<Figure size 432x288 with 1 Axes>"
      ]
     },
     "metadata": {
      "needs_background": "light"
     },
     "output_type": "display_data"
    }
   ],
   "source": [
    "#Pengambilan sampel data\n",
    "sum_column = new_df['Ransum'].count() #Jumlah data\n",
    "half_sum = sum_column/2\n",
    "first_half = new_df['Ransum'].loc[:half_sum-1]\n",
    "second_half = new_df['Ransum'].loc[half_sum:]\n",
    "\n",
    "n1 = first_half.count()\n",
    "n2 = first_half.count()\n",
    "\n",
    "x1 = first_half.loc[first_half > 2].count()\n",
    "x2 = second_half.loc[second_half > 2].count()\n",
    "\n",
    "p1 = x1/n1\n",
    "p2 = x2/n2\n",
    "p = (x1+x2)/sum_column\n",
    "q = 1-p\n",
    "\n",
    "#1. Hipotesis 0 p1-p2 = 0\n",
    "#print(\"1. Hipotesis 0\")\n",
    "#print(\"H0 : p1-p2 = 0\")\n",
    "#print(\"\")\n",
    "#2. Hipotesis 1 p1-p2 > 0\n",
    "#print(\"2. Hipotesis 1\")\n",
    "#print(\"H1 : p1-p2 > 0\")\n",
    "#print(\"\")\n",
    "d0 = 0\n",
    "\n",
    "#3. Tingkat signifikan alpha\n",
    "alpha = 0.05\n",
    "#print(\"3. Tingkat Signifikan Alpha\")\n",
    "print(\"alpha   = %3f\" %(alpha))\n",
    "#print(\"\")\n",
    "\n",
    "#4. Penentuan Uji Statistik dan Daerah Kritis\n",
    "#print(\"4. Penentuan Uji Statistik dan Daerah Kritis\")\n",
    "z = (p1 - p2)/math.sqrt(p*q*(1/n1 + 1/n2))\n",
    "critical_reg = stats.norm.ppf(1-alpha)\n",
    "print(\"Critical region : z > %f\" %(critical_reg))\n",
    "#print(\"\")\n",
    "\n",
    "#5. Perhitungan Nilai Uji Statistik dan p-value\n",
    "#print(\"5. Perhitungan Nilai Uji Statistik dan p-value\")\n",
    "z = (p1 - p2)/math.sqrt(p*q*(1/n1 + 1/n2))\n",
    "pval = 1 - stats.norm.cdf(z) \n",
    "print(\"z       = %f\" %(z))\n",
    "print(\"p-value = %f\" %(pval))\n",
    "#print(\"\")\n",
    "\n",
    "#6. Keputusan\n",
    "#print(\"6. Keputusan\")\n",
    "\n",
    "reject = False\n",
    "if (z < -critical_reg) or (z > critical_reg):\n",
    "    reject = True\n",
    "    print(\"H0 REJECTED karena nilai z berada dalam batasan daerah kritis\")\n",
    "else:\n",
    "    print(\"H0 NOT REJECTED karena nilai z berada di luar batasan daerah kritis\")\n",
    "    \n",
    "if (pval > alpha):\n",
    "    print(\"H0 NOT REJECTED karena p-value bernilai lebih besar dari tingkat signifikasinya\")\n",
    "else:\n",
    "    reject = True\n",
    "    print(\"H0 REJECTED karena p-value bernilai lebih kecil dari tingkat signifikasinya\")\n",
    "print(\"\")\n",
    "\n",
    "#Kesimpulan\n",
    "#print(\"KESIMPULAN\")\n",
    "if (reject == True):\n",
    "    print (\"Disimpulkan bahwa H0 REJECTED dan H1 NOT REJECTED\")\n",
    "    print (\"Proporsi bagian awal Ransum > Proporsi bagian akhir Ransum untuk nilai lebih dari 2\")\n",
    "else : \n",
    "    print (\"Disimpulkan bahwa H0 NOT REJECTED dan H1 REJECTED\")\n",
    "    print (\"Proporsi bagian awal Ransum == Proporsi bagian akhir Ransum untuk nilai lebih dari 2\")\n",
    "\n",
    "plt.boxplot([first_half, second_half])\n",
    "plt.xticks(ticks=[1,2],labels=[\"First Half\",\"Second Half\"])\n",
    "plt.title(\"Ransum\")\n",
    "plt.tight_layout()\n",
    "plt.show()"
   ]
  },
  {
   "cell_type": "markdown",
   "metadata": {},
   "source": [
    "***\n",
    "**1. Menentukan hipotesis nol**\n",
    "    $H_0 : p_{awal} = p_{akhir}$\n",
    "\n",
    "**2. Menentukan hipotesis alternatif** \n",
    "    $H_1 : p_{akhir} > p_{akhir}$\n",
    "\n",
    "**3. Menentukan tingkat signifikan** \n",
    "    $\\alpha = 0.05$\n",
    "   \n",
    "**4. Menentukan uji statistik yang sesuai dan menentukan daerah kritis**\n",
    "\n",
    "Uji statistik yang dipilih adalah uji statistik distribusi normal untuk 2 sampel.\n",
    "\n",
    "Daerah kritis untuk hipotesis alternatif adalah $t > 1.644854$\n",
    "\n",
    "**5. Menghitung nilai uji statistik dari data sampel serta nilai *p-value* yang sesuai**\n",
    "\n",
    "$z = \\Large\\frac{p_{1}-p_{2}-d0}{\\sqrt{pxqx(\\frac{1}{n_{1}}+\\frac{1}{n_{2}})}}$\n",
    "\n",
    "$z = 13.397486$\n",
    "\n",
    "$p-value = 0.000000$\n",
    "\n",
    "**6. Mengambil keputusan**\n",
    "\n",
    "Berdasarkan data hasil perhitungan, diperoleh keputusan sebagai berikut:\n",
    "1. $H_0$ *REJECTED* karena nilai z berada dalam batasan daerah kritis\n",
    "2. $H_0$ *REJECTED* karena *p-value* lebih kecil dibandingkan *significance level* $\\alpha$\n",
    "\n",
    "Maka, $H_0$ *REJECTED* dan $H_1$ *NOT REJECTED*\n",
    "\n",
    "Dapat disimpulkan bahwa : **Proporsi bagian awal Ransum > Proporsi bagian akhir Ransum untuk nilai lebih dari 2,** ***BENAR***\n",
    "***"
   ]
  },
  {
   "cell_type": "markdown",
   "metadata": {},
   "source": [
    "### e. Bagian awal kolom Diameter memiliki variansi yang sama dengan bagian akhirnya?\")"
   ]
  },
  {
   "cell_type": "code",
   "execution_count": 153,
   "metadata": {},
   "outputs": [
    {
     "name": "stdout",
     "output_type": "stream",
     "text": [
      "f : 1.083878\n",
      "Daerah kritis : f < 0.7799821332634866 atau f > 1.2820806494835295\n",
      "H0 NOT REJECTED karena nilai f berada di luar batasan daerah kritis\n",
      "\n",
      "Disimpulkan bahwa H0 NOT REJECTED dan H1 REJECTED\n"
     ]
    },
    {
     "data": {
      "image/png": "[encoded data removed]",
      "text/plain": [
       "<Figure size 432x288 with 1 Axes>"
      ]
     },
     "metadata": {
      "needs_background": "light"
     },
     "output_type": "display_data"
    }
   ],
   "source": [
    "# H0 = variansi 1 == variansi 2\n",
    "# H1 = variansi 1 != variansi 2\n",
    "alpha = 0.05\n",
    "d_atas = new_df[0:250][\"Diameter\"]\n",
    "d_bawah = new_df[250:][\"Diameter\"]\n",
    "s1 = d_atas.std()\n",
    "s2 = d_bawah.std()\n",
    "f = s1**(2) / s2**(2)\n",
    "print(\"f : %f\" %(f))\n",
    "v1 = d_atas.count()\n",
    "v2 = d_bawah.count()\n",
    "\n",
    "# Daerah kritis\n",
    "f1 = stats.f.ppf((alpha/2),v1,v2)\n",
    "f2 = stats.f.ppf(1-(alpha/2),v1,v2)\n",
    "print(\"Daerah kritis : f <\", f1 , \"atau f >\", f2)\n",
    "\n",
    "# Pengambilan keputusan \n",
    "reject = False\n",
    "if (f < f1) or (f > f2):\n",
    "    reject = True\n",
    "    print(\"H0 REJECTED karena nilai f berada dalam batasan daerah kritis\")\n",
    "else:\n",
    "    print(\"H0 NOT REJECTED karena nilai f berada di luar batasan daerah kritis\")\n",
    "\n",
    "print(\"\")\n",
    "if (reject):\n",
    "    print (\"Disimpulkan bahwa H0 REJECTED dan H1 NOT REJECTED\")\n",
    "else : \n",
    "    print (\"Disimpulkan bahwa H0 NOT REJECTED dan H1 REJECTED\")\n",
    "    \n",
    "# maka Bagian awal kolom Diameter memiliki variansi yang sama dengan bagian akhirnya\n",
    "plt.boxplot([d_atas, d_bawah])\n",
    "plt.xticks(ticks=[1,2],labels=[\"First Half\",\"Second Half\"])\n",
    "plt.title(\"Diameter\")\n",
    "plt.tight_layout()\n",
    "plt.show()"
   ]
  },
  {
   "cell_type": "markdown",
   "metadata": {},
   "source": [
    "***\n",
    "**1. Menentukan hipotesis nol**\n",
    "    $H_0 : \\sigma_{awal}^2 = \\sigma_{akhir}^2$\n",
    "\n",
    "**2. Menentukan hipotesis alternatif** \n",
    "    $H_1 : \\sigma_{awal}^2 \\ne \\sigma_{akhir}^2$\n",
    "\n",
    "**3. Menentukan tingkat signifikan** \n",
    "    $\\alpha = 0.05$\n",
    "   \n",
    "**4. Menentukan uji statistik yang sesuai dan menentukan daerah kritis**\n",
    "\n",
    "Uji statistik yang dipilih adalah uji statistik distribusi f untuk 2 sampel.\n",
    "\n",
    "Daerah kritis untuk hipotesis alternatif adalah $f < 0.7799821332634866$ $f > 1.2820806494835295$\n",
    "\n",
    "**5. Menghitung nilai uji statistik dari data sampel serta nilai *p-value* yang sesuai**\n",
    "\n",
    "$f = \\Large\\frac{\\sigma_{1}^2}{\\sigma_{2}^2}$\n",
    "\n",
    "$f = 1.083878$\n",
    "\n",
    "**6. Mengambil keputusan**\n",
    "\n",
    "Berdasarkan data hasil perhitungan, diperoleh keputusan sebagai berikut:\n",
    "1. $H_0$ *NOT REJECTED* karena nilai f berada di luar batasan daerah kritis\n",
    "\n",
    "Maka, $H_0$ *NOT REJECTED* dan $H_1$ *REJECTED*\n",
    "\n",
    "Dapat disimpulkan bahwa : **Variansi bagian awal Diameter == Variansi bagian akhir Diameter,**  ***BENAR***\n",
    "***"
   ]
  },
  {
   "cell_type": "markdown",
   "metadata": {},
   "source": [
    "## 6. Tes Korelasi\n",
    "#### Menentukan apakah setiap kolom non-target berkorelasi dengan kolom target, dengan menggambarkan juga scatter plot nya. Kami menggunakan correlation test."
   ]
  },
  {
   "cell_type": "markdown",
   "metadata": {},
   "source": [
    "***Koefisien Pearson Correlation*** mengukur kekuatan relasi/asosiasi secara linier antar variabel $X$ dan $Y$, dengan asumsi dataset terdistribusi normal. Nilai relasi ini dinotasikan dengan $r$ . Dari tes ini, akan divisualisasikan garis *best fit* antara dua varibel, dengan nilai $r$ yang merepresentasikan seberapa *fit* (atau sesuai) sampel dalam data terhadap garis *best fit* . \n",
    "\n",
    "$r$ memiliki rentang nilai $-1$ sampai $1$ dengan keterangan sebagai berikut:\n",
    "- $r = 0$ , maka $X$ dan $Y$ tidak berkorelasi\n",
    "- $r > 0$ , maka $X$ dan $Y$ memiliki korelasi positif\n",
    "- $r < 0$ , maka $X$ dan $Y$ memiliki korelasi negatif\n",
    "- $r = 1$ atau $r = -1$, maka seluruh *data points* pada $X$ dan $Y$ berada dalam garis *best fit*\n",
    "    - $r = 1$ , memiliki korelasi positif sempurna yaitu saat $X$ membesar maka $Y$ membesar dan sebaliknya\n",
    "    - $r = -1$ , memiliki korelasi negatif sempurna yaitu saat $X$ membesar maka $Y$ mengecil dan sebaliknya\n",
    "    \n",
    "Klasifikasi nilai $r$ adalah sebagai berikut:\n",
    "- Perfect         : $r \\pm 1$ \n",
    "- High degree     : $0.5 \\leq r < 1$ atau $-1 < r \\leq -0.5$\n",
    "- Moderate degree : $0.3 \\leq r < 0.5$ atau $-0.5 < r \\leq -0.3$\n",
    "- Low degree      : $0 < r < 0.3$ atau $-0.3 < r < 0$\n",
    "- No correlation  : $r = 0$"
   ]
  },
  {
   "cell_type": "code",
   "execution_count": 142,
   "metadata": {},
   "outputs": [],
   "source": [
    "def pearsonCorr(col1, col2):\n",
    "    cor, p_val = stats.pearsonr(df[col1], df[col2])\n",
    "    r = (\"$r = %.4f$\" %(cor))\n",
    "    markdown(\"### Korelasi Kolom %s dengan Kolom %s\" %(col1, col2))\n",
    "    markdown(\"**Nilai korelasi :** \")\n",
    "    markdown(r)\n",
    "    text2 = rtype(cor)\n",
    "    #pengelompokan r\n",
    "    text1 = \"Berdasarkan nilai koefisien *Pearson correlation* yang diperoleh, dapat disimpulkan bahwa kolom **%s** dan kolom **%s** memiliki \" %(col1, col2)\n",
    "    markdown(text1 + text2)\n",
    "    sns.regplot(df[col1], df[col2])\n",
    "    \n",
    "def rtype(cor):\n",
    "    if (cor == 1):\n",
    "        text2 = \"**perfect positive correlation**\" \n",
    "    elif (cor > 0): #positive correlation\n",
    "        if ((cor >= 0.5) and (cor < 1)):\n",
    "            text2 = \"**high degree positive correlation**\"\n",
    "        elif ((cor >= 0.3) and (cor < 0.5)):\n",
    "            text2 = \"**moderate degree positive correlation**\"\n",
    "        elif (cor < 0.3):\n",
    "            text2 = \"**low degree positive correlation**\"   \n",
    "    elif (cor == 0):\n",
    "        text2 = \"**no correlation**\"\n",
    "    elif (cor < 0): #negative correlation\n",
    "        if ((cor > -1) and (cor <= -0.5)):\n",
    "            text2 = \"**high degree negative correlation**\"\n",
    "        elif ((cor > -0.5) and (cor <= -0.3)):\n",
    "            text2 = \"**moderate degree negative correlation**\"\n",
    "        elif (cor > -0.3):\n",
    "            text2 = \"**low degree negative correlation**\"\n",
    "    else: #if (cor == -1):\n",
    "        text2 = \"**perfect negative correlation**\"\n",
    "    return text2\n",
    "    #markdown(text1)\n",
    "    #markdown(text2)\n",
    "    "
   ]
  },
  {
   "cell_type": "code",
   "execution_count": 143,
   "metadata": {},
   "outputs": [
    {
     "data": {
      "text/markdown": [
       "### Korelasi Kolom Daerah dengan Kolom Kelas"
      ],
      "text/plain": [
       "<IPython.core.display.Markdown object>"
      ]
     },
     "metadata": {},
     "output_type": "display_data"
    },
    {
     "data": {
      "text/markdown": [
       "**Nilai korelasi :** "
      ],
      "text/plain": [
       "<IPython.core.display.Markdown object>"
      ]
     },
     "metadata": {},
     "output_type": "display_data"
    },
    {
     "data": {
      "text/markdown": [
       "$r = -0.6027$"
      ],
      "text/plain": [
       "<IPython.core.display.Markdown object>"
      ]
     },
     "metadata": {},
     "output_type": "display_data"
    },
    {
     "data": {
      "text/markdown": [
       "Berdasarkan nilai koefisien *Pearson correlation* yang diperoleh, dapat disimpulkan bahwa kolom **Daerah** dan kolom **Kelas** memiliki **high degree negative correlation**"
      ],
      "text/plain": [
       "<IPython.core.display.Markdown object>"
      ]
     },
     "metadata": {},
     "output_type": "display_data"
    },
    {
     "data": {
      "image/png": "[encoded data removed]",
      "text/plain": [
       "<Figure size 432x288 with 1 Axes>"
      ]
     },
     "metadata": {
      "needs_background": "light"
     },
     "output_type": "display_data"
    }
   ],
   "source": [
    "pearsonCorr(\"Daerah\",\"Kelas\")"
   ]
  },
  {
   "cell_type": "code",
   "execution_count": 144,
   "metadata": {},
   "outputs": [
    {
     "data": {
      "text/markdown": [
       "### Korelasi Kolom SumbuUtama dengan Kolom Kelas"
      ],
      "text/plain": [
       "<IPython.core.display.Markdown object>"
      ]
     },
     "metadata": {},
     "output_type": "display_data"
    },
    {
     "data": {
      "text/markdown": [
       "**Nilai korelasi :** "
      ],
      "text/plain": [
       "<IPython.core.display.Markdown object>"
      ]
     },
     "metadata": {},
     "output_type": "display_data"
    },
    {
     "data": {
      "text/markdown": [
       "$r = -0.7131$"
      ],
      "text/plain": [
       "<IPython.core.display.Markdown object>"
      ]
     },
     "metadata": {},
     "output_type": "display_data"
    },
    {
     "data": {
      "text/markdown": [
       "Berdasarkan nilai koefisien *Pearson correlation* yang diperoleh, dapat disimpulkan bahwa kolom **SumbuUtama** dan kolom **Kelas** memiliki **high degree negative correlation**"
      ],
      "text/plain": [
       "<IPython.core.display.Markdown object>"
      ]
     },
     "metadata": {},
     "output_type": "display_data"
    },
    {
     "data": {
      "image/png": "[encoded data removed]",
      "text/plain": [
       "<Figure size 432x288 with 1 Axes>"
      ]
     },
     "metadata": {
      "needs_background": "light"
     },
     "output_type": "display_data"
    }
   ],
   "source": [
    "pearsonCorr(\"SumbuUtama\",\"Kelas\")"
   ]
  },
  {
   "cell_type": "code",
   "execution_count": 145,
   "metadata": {},
   "outputs": [
    {
     "data": {
      "text/markdown": [
       "### Korelasi Kolom SumbuKecil dengan Kolom Kelas"
      ],
      "text/plain": [
       "<IPython.core.display.Markdown object>"
      ]
     },
     "metadata": {},
     "output_type": "display_data"
    },
    {
     "data": {
      "text/markdown": [
       "**Nilai korelasi :** "
      ],
      "text/plain": [
       "<IPython.core.display.Markdown object>"
      ]
     },
     "metadata": {},
     "output_type": "display_data"
    },
    {
     "data": {
      "text/markdown": [
       "$r = -0.1530$"
      ],
      "text/plain": [
       "<IPython.core.display.Markdown object>"
      ]
     },
     "metadata": {},
     "output_type": "display_data"
    },
    {
     "data": {
      "text/markdown": [
       "Berdasarkan nilai koefisien *Pearson correlation* yang diperoleh, dapat disimpulkan bahwa kolom **SumbuKecil** dan kolom **Kelas** memiliki **low degree negative correlation**"
      ],
      "text/plain": [
       "<IPython.core.display.Markdown object>"
      ]
     },
     "metadata": {},
     "output_type": "display_data"
    },
    {
     "data": {
      "image/png": "[encoded data removed]",
      "text/plain": [
       "<Figure size 432x288 with 1 Axes>"
      ]
     },
     "metadata": {
      "needs_background": "light"
     },
     "output_type": "display_data"
    }
   ],
   "source": [
    "pearsonCorr(\"SumbuKecil\",\"Kelas\")"
   ]
  },
  {
   "cell_type": "code",
   "execution_count": 146,
   "metadata": {},
   "outputs": [
    {
     "data": {
      "text/markdown": [
       "### Korelasi Kolom Keunikan dengan Kolom Kelas"
      ],
      "text/plain": [
       "<IPython.core.display.Markdown object>"
      ]
     },
     "metadata": {},
     "output_type": "display_data"
    },
    {
     "data": {
      "text/markdown": [
       "**Nilai korelasi :** "
      ],
      "text/plain": [
       "<IPython.core.display.Markdown object>"
      ]
     },
     "metadata": {},
     "output_type": "display_data"
    },
    {
     "data": {
      "text/markdown": [
       "$r = -0.7305$"
      ],
      "text/plain": [
       "<IPython.core.display.Markdown object>"
      ]
     },
     "metadata": {},
     "output_type": "display_data"
    },
    {
     "data": {
      "text/markdown": [
       "Berdasarkan nilai koefisien *Pearson correlation* yang diperoleh, dapat disimpulkan bahwa kolom **Keunikan** dan kolom **Kelas** memiliki **high degree negative correlation**"
      ],
      "text/plain": [
       "<IPython.core.display.Markdown object>"
      ]
     },
     "metadata": {},
     "output_type": "display_data"
    },
    {
     "data": {
      "image/png": "[encoded data removed]",
      "text/plain": [
       "<Figure size 432x288 with 1 Axes>"
      ]
     },
     "metadata": {
      "needs_background": "light"
     },
     "output_type": "display_data"
    }
   ],
   "source": [
    "pearsonCorr(\"Keunikan\",\"Kelas\")"
   ]
  },
  {
   "cell_type": "code",
   "execution_count": 147,
   "metadata": {},
   "outputs": [
    {
     "data": {
      "text/markdown": [
       "### Korelasi Kolom AreaBulatan dengan Kolom Kelas"
      ],
      "text/plain": [
       "<IPython.core.display.Markdown object>"
      ]
     },
     "metadata": {},
     "output_type": "display_data"
    },
    {
     "data": {
      "text/markdown": [
       "**Nilai korelasi :** "
      ],
      "text/plain": [
       "<IPython.core.display.Markdown object>"
      ]
     },
     "metadata": {},
     "output_type": "display_data"
    },
    {
     "data": {
      "text/markdown": [
       "$r = -0.6073$"
      ],
      "text/plain": [
       "<IPython.core.display.Markdown object>"
      ]
     },
     "metadata": {},
     "output_type": "display_data"
    },
    {
     "data": {
      "text/markdown": [
       "Berdasarkan nilai koefisien *Pearson correlation* yang diperoleh, dapat disimpulkan bahwa kolom **AreaBulatan** dan kolom **Kelas** memiliki **high degree negative correlation**"
      ],
      "text/plain": [
       "<IPython.core.display.Markdown object>"
      ]
     },
     "metadata": {},
     "output_type": "display_data"
    },
    {
     "data": {
      "image/png": "[encoded data removed]",
      "text/plain": [
       "<Figure size 432x288 with 1 Axes>"
      ]
     },
     "metadata": {
      "needs_background": "light"
     },
     "output_type": "display_data"
    }
   ],
   "source": [
    "pearsonCorr(\"AreaBulatan\",\"Kelas\")"
   ]
  },
  {
   "cell_type": "code",
   "execution_count": 148,
   "metadata": {},
   "outputs": [
    {
     "data": {
      "text/markdown": [
       "### Korelasi Kolom Diameter dengan Kolom Kelas"
      ],
      "text/plain": [
       "<IPython.core.display.Markdown object>"
      ]
     },
     "metadata": {},
     "output_type": "display_data"
    },
    {
     "data": {
      "text/markdown": [
       "**Nilai korelasi :** "
      ],
      "text/plain": [
       "<IPython.core.display.Markdown object>"
      ]
     },
     "metadata": {},
     "output_type": "display_data"
    },
    {
     "data": {
      "text/markdown": [
       "$r = -0.6025$"
      ],
      "text/plain": [
       "<IPython.core.display.Markdown object>"
      ]
     },
     "metadata": {},
     "output_type": "display_data"
    },
    {
     "data": {
      "text/markdown": [
       "Berdasarkan nilai koefisien *Pearson correlation* yang diperoleh, dapat disimpulkan bahwa kolom **Diameter** dan kolom **Kelas** memiliki **high degree negative correlation**"
      ],
      "text/plain": [
       "<IPython.core.display.Markdown object>"
      ]
     },
     "metadata": {},
     "output_type": "display_data"
    },
    {
     "data": {
      "image/png": "[encoded data removed]",
      "text/plain": [
       "<Figure size 432x288 with 1 Axes>"
      ]
     },
     "metadata": {
      "needs_background": "light"
     },
     "output_type": "display_data"
    }
   ],
   "source": [
    "pearsonCorr(\"Diameter\",\"Kelas\")"
   ]
  },
  {
   "cell_type": "code",
   "execution_count": 149,
   "metadata": {},
   "outputs": [
    {
     "data": {
      "text/markdown": [
       "### Korelasi Kolom KadarAir dengan Kolom Kelas"
      ],
      "text/plain": [
       "<IPython.core.display.Markdown object>"
      ]
     },
     "metadata": {},
     "output_type": "display_data"
    },
    {
     "data": {
      "text/markdown": [
       "**Nilai korelasi :** "
      ],
      "text/plain": [
       "<IPython.core.display.Markdown object>"
      ]
     },
     "metadata": {},
     "output_type": "display_data"
    },
    {
     "data": {
      "text/markdown": [
       "$r = 0.1343$"
      ],
      "text/plain": [
       "<IPython.core.display.Markdown object>"
      ]
     },
     "metadata": {},
     "output_type": "display_data"
    },
    {
     "data": {
      "text/markdown": [
       "Berdasarkan nilai koefisien *Pearson correlation* yang diperoleh, dapat disimpulkan bahwa kolom **KadarAir** dan kolom **Kelas** memiliki **low degree positive correlation**"
      ],
      "text/plain": [
       "<IPython.core.display.Markdown object>"
      ]
     },
     "metadata": {},
     "output_type": "display_data"
    },
    {
     "data": {
      "image/png": "[encoded data removed]",
      "text/plain": [
       "<Figure size 432x288 with 1 Axes>"
      ]
     },
     "metadata": {
      "needs_background": "light"
     },
     "output_type": "display_data"
    }
   ],
   "source": [
    "pearsonCorr(\"KadarAir\",\"Kelas\")"
   ]
  },
  {
   "cell_type": "code",
   "execution_count": 150,
   "metadata": {},
   "outputs": [
    {
     "data": {
      "text/markdown": [
       "### Korelasi Kolom Keliling dengan Kolom Kelas"
      ],
      "text/plain": [
       "<IPython.core.display.Markdown object>"
      ]
     },
     "metadata": {},
     "output_type": "display_data"
    },
    {
     "data": {
      "text/markdown": [
       "**Nilai korelasi :** "
      ],
      "text/plain": [
       "<IPython.core.display.Markdown object>"
      ]
     },
     "metadata": {},
     "output_type": "display_data"
    },
    {
     "data": {
      "text/markdown": [
       "$r = -0.6349$"
      ],
      "text/plain": [
       "<IPython.core.display.Markdown object>"
      ]
     },
     "metadata": {},
     "output_type": "display_data"
    },
    {
     "data": {
      "text/markdown": [
       "Berdasarkan nilai koefisien *Pearson correlation* yang diperoleh, dapat disimpulkan bahwa kolom **Keliling** dan kolom **Kelas** memiliki **high degree negative correlation**"
      ],
      "text/plain": [
       "<IPython.core.display.Markdown object>"
      ]
     },
     "metadata": {},
     "output_type": "display_data"
    },
    {
     "data": {
      "image/png": "[encoded data removed]",
      "text/plain": [
       "<Figure size 432x288 with 1 Axes>"
      ]
     },
     "metadata": {
      "needs_background": "light"
     },
     "output_type": "display_data"
    }
   ],
   "source": [
    "pearsonCorr(\"Keliling\",\"Kelas\")"
   ]
  },
  {
   "cell_type": "code",
   "execution_count": 151,
   "metadata": {},
   "outputs": [
    {
     "data": {
      "text/markdown": [
       "### Korelasi Kolom Bulatan dengan Kolom Kelas"
      ],
      "text/plain": [
       "<IPython.core.display.Markdown object>"
      ]
     },
     "metadata": {},
     "output_type": "display_data"
    },
    {
     "data": {
      "text/markdown": [
       "**Nilai korelasi :** "
      ],
      "text/plain": [
       "<IPython.core.display.Markdown object>"
      ]
     },
     "metadata": {},
     "output_type": "display_data"
    },
    {
     "data": {
      "text/markdown": [
       "$r = 0.5450$"
      ],
      "text/plain": [
       "<IPython.core.display.Markdown object>"
      ]
     },
     "metadata": {},
     "output_type": "display_data"
    },
    {
     "data": {
      "text/markdown": [
       "Berdasarkan nilai koefisien *Pearson correlation* yang diperoleh, dapat disimpulkan bahwa kolom **Bulatan** dan kolom **Kelas** memiliki **high degree positive correlation**"
      ],
      "text/plain": [
       "<IPython.core.display.Markdown object>"
      ]
     },
     "metadata": {},
     "output_type": "display_data"
    },
    {
     "data": {
      "image/png": "[encoded data removed]",
      "text/plain": [
       "<Figure size 432x288 with 1 Axes>"
      ]
     },
     "metadata": {
      "needs_background": "light"
     },
     "output_type": "display_data"
    }
   ],
   "source": [
    "pearsonCorr(\"Bulatan\",\"Kelas\")"
   ]
  },
  {
   "cell_type": "code",
   "execution_count": 152,
   "metadata": {},
   "outputs": [
    {
     "data": {
      "text/markdown": [
       "### Korelasi Kolom Ransum dengan Kolom Kelas"
      ],
      "text/plain": [
       "<IPython.core.display.Markdown object>"
      ]
     },
     "metadata": {},
     "output_type": "display_data"
    },
    {
     "data": {
      "text/markdown": [
       "**Nilai korelasi :** "
      ],
      "text/plain": [
       "<IPython.core.display.Markdown object>"
      ]
     },
     "metadata": {},
     "output_type": "display_data"
    },
    {
     "data": {
      "text/markdown": [
       "$r = -0.8399$"
      ],
      "text/plain": [
       "<IPython.core.display.Markdown object>"
      ]
     },
     "metadata": {},
     "output_type": "display_data"
    },
    {
     "data": {
      "text/markdown": [
       "Berdasarkan nilai koefisien *Pearson correlation* yang diperoleh, dapat disimpulkan bahwa kolom **Ransum** dan kolom **Kelas** memiliki **high degree negative correlation**"
      ],
      "text/plain": [
       "<IPython.core.display.Markdown object>"
      ]
     },
     "metadata": {},
     "output_type": "display_data"
    },
    {
     "data": {
      "image/png": "[encoded data removed]",
      "text/plain": [
       "<Figure size 432x288 with 1 Axes>"
      ]
     },
     "metadata": {
      "needs_background": "light"
     },
     "output_type": "display_data"
    }
   ],
   "source": [
    "pearsonCorr(\"Ransum\",\"Kelas\")"
   ]
  }
 ],
 "metadata": {
  "kernelspec": {
   "display_name": "Python 3",
   "language": "python",
   "name": "python3"
  },
  "language_info": {
   "codemirror_mode": {
    "name": "ipython",
    "version": 3
   },
   "file_extension": ".py",
   "mimetype": "text/x-python",
   "name": "python",
   "nbconvert_exporter": "python",
   "pygments_lexer": "ipython3",
   "version": "3.8.3"
  },
  "metadata": {
   "interpreter": {
    "hash": "aee8b7b246df8f9039afb4144a1f6fd8d2ca17a180786b69acc140d282b71a49"
   }
  }
 },
 "nbformat": 4,
 "nbformat_minor": 5
}
